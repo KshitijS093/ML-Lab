{
  "nbformat": 4,
  "nbformat_minor": 0,
  "metadata": {
    "colab": {
      "provenance": [],
      "authorship_tag": "ABX9TyMv8e2YOPWsuhLeDydcndSO",
      "include_colab_link": true
    },
    "kernelspec": {
      "name": "python3",
      "display_name": "Python 3"
    },
    "language_info": {
      "name": "python"
    }
  },
  "cells": [
    {
      "cell_type": "markdown",
      "metadata": {
        "id": "view-in-github",
        "colab_type": "text"
      },
      "source": [
        "<a href=\"https://colab.research.google.com/github/KshitijS093/ML-Lab/blob/main/ML_Lab2.ipynb\" target=\"_parent\"><img src=\"https://colab.research.google.com/assets/colab-badge.svg\" alt=\"Open In Colab\"/></a>"
      ]
    },
    {
      "cell_type": "code",
      "execution_count": 1,
      "metadata": {
        "id": "SDZS8bNwhe0X"
      },
      "outputs": [],
      "source": [
        "import pandas as pd\n",
        "import numpy as np\n",
        "import math\n",
        "\n",
        "data = pd.read_csv('/content/PlayTennis.csv')"
      ]
    },
    {
      "cell_type": "code",
      "source": [
        "def highlight(cell_value):\n",
        "    '''\n",
        "    Highlight yes / no values in the dataframe\n",
        "    '''\n",
        "    color_1 = 'background-color: pink;'\n",
        "    color_2 = 'background-color: lightgreen;'\n",
        "\n",
        "    if cell_value == 'no':\n",
        "        return color_1\n",
        "    elif cell_value == 'yes':\n",
        "        return color_2\n",
        "\n",
        "data.style.applymap(highlight)\\\n",
        "    .set_properties(subset=data.columns, **{'width': '100px'})\\\n",
        "    .set_table_styles([{'selector': 'th', 'props': [('background-color', 'lightgray'), ('border', '1px solid gray'),\n",
        "                                                    ('font-weight', 'bold')]},\n",
        "     {'selector': 'tr:hover', 'props': [('background-color', 'white'), ('border', '1.5px solid black')]}])"
      ],
      "metadata": {
        "colab": {
          "base_uri": "https://localhost:8080/",
          "height": 503
        },
        "id": "Z2nF2PbFj-TU",
        "outputId": "ad63d791-57d3-41ad-fcf3-81bcfd34b05a"
      },
      "execution_count": 13,
      "outputs": [
        {
          "output_type": "execute_result",
          "data": {
            "text/plain": [
              "<pandas.io.formats.style.Styler at 0x7d488e205b70>"
            ],
            "text/html": [
              "<style type=\"text/css\">\n",
              "#T_d6da6 th {\n",
              "  background-color: lightgray;\n",
              "  border: 1px solid gray;\n",
              "  font-weight: bold;\n",
              "}\n",
              "#T_d6da6 tr:hover {\n",
              "  background-color: white;\n",
              "  border: 1.5px solid black;\n",
              "}\n",
              "#T_d6da6_row0_col0, #T_d6da6_row0_col1, #T_d6da6_row0_col2, #T_d6da6_row0_col3, #T_d6da6_row1_col0, #T_d6da6_row1_col1, #T_d6da6_row1_col2, #T_d6da6_row1_col3, #T_d6da6_row2_col0, #T_d6da6_row2_col1, #T_d6da6_row2_col2, #T_d6da6_row2_col3, #T_d6da6_row3_col0, #T_d6da6_row3_col1, #T_d6da6_row3_col2, #T_d6da6_row3_col3, #T_d6da6_row4_col0, #T_d6da6_row4_col1, #T_d6da6_row4_col2, #T_d6da6_row4_col3, #T_d6da6_row5_col0, #T_d6da6_row5_col1, #T_d6da6_row5_col2, #T_d6da6_row5_col3, #T_d6da6_row6_col0, #T_d6da6_row6_col1, #T_d6da6_row6_col2, #T_d6da6_row6_col3, #T_d6da6_row7_col0, #T_d6da6_row7_col1, #T_d6da6_row7_col2, #T_d6da6_row7_col3, #T_d6da6_row8_col0, #T_d6da6_row8_col1, #T_d6da6_row8_col2, #T_d6da6_row8_col3, #T_d6da6_row9_col0, #T_d6da6_row9_col1, #T_d6da6_row9_col2, #T_d6da6_row9_col3, #T_d6da6_row10_col0, #T_d6da6_row10_col1, #T_d6da6_row10_col2, #T_d6da6_row10_col3, #T_d6da6_row11_col0, #T_d6da6_row11_col1, #T_d6da6_row11_col2, #T_d6da6_row11_col3, #T_d6da6_row12_col0, #T_d6da6_row12_col1, #T_d6da6_row12_col2, #T_d6da6_row12_col3, #T_d6da6_row13_col0, #T_d6da6_row13_col1, #T_d6da6_row13_col2, #T_d6da6_row13_col3 {\n",
              "  width: 100px;\n",
              "}\n",
              "#T_d6da6_row0_col4, #T_d6da6_row1_col4, #T_d6da6_row5_col4, #T_d6da6_row7_col4, #T_d6da6_row13_col4 {\n",
              "  background-color: pink;\n",
              "  width: 100px;\n",
              "}\n",
              "#T_d6da6_row2_col4, #T_d6da6_row3_col4, #T_d6da6_row4_col4, #T_d6da6_row6_col4, #T_d6da6_row8_col4, #T_d6da6_row9_col4, #T_d6da6_row10_col4, #T_d6da6_row11_col4, #T_d6da6_row12_col4 {\n",
              "  background-color: lightgreen;\n",
              "  width: 100px;\n",
              "}\n",
              "</style>\n",
              "<table id=\"T_d6da6\" class=\"dataframe\">\n",
              "  <thead>\n",
              "    <tr>\n",
              "      <th class=\"blank level0\" >&nbsp;</th>\n",
              "      <th id=\"T_d6da6_level0_col0\" class=\"col_heading level0 col0\" >outlook</th>\n",
              "      <th id=\"T_d6da6_level0_col1\" class=\"col_heading level0 col1\" >temp</th>\n",
              "      <th id=\"T_d6da6_level0_col2\" class=\"col_heading level0 col2\" >humidity</th>\n",
              "      <th id=\"T_d6da6_level0_col3\" class=\"col_heading level0 col3\" >windy</th>\n",
              "      <th id=\"T_d6da6_level0_col4\" class=\"col_heading level0 col4\" >play</th>\n",
              "    </tr>\n",
              "  </thead>\n",
              "  <tbody>\n",
              "    <tr>\n",
              "      <th id=\"T_d6da6_level0_row0\" class=\"row_heading level0 row0\" >0</th>\n",
              "      <td id=\"T_d6da6_row0_col0\" class=\"data row0 col0\" >sunny</td>\n",
              "      <td id=\"T_d6da6_row0_col1\" class=\"data row0 col1\" >hot</td>\n",
              "      <td id=\"T_d6da6_row0_col2\" class=\"data row0 col2\" >high</td>\n",
              "      <td id=\"T_d6da6_row0_col3\" class=\"data row0 col3\" >False</td>\n",
              "      <td id=\"T_d6da6_row0_col4\" class=\"data row0 col4\" >no</td>\n",
              "    </tr>\n",
              "    <tr>\n",
              "      <th id=\"T_d6da6_level0_row1\" class=\"row_heading level0 row1\" >1</th>\n",
              "      <td id=\"T_d6da6_row1_col0\" class=\"data row1 col0\" >sunny</td>\n",
              "      <td id=\"T_d6da6_row1_col1\" class=\"data row1 col1\" >hot</td>\n",
              "      <td id=\"T_d6da6_row1_col2\" class=\"data row1 col2\" >high</td>\n",
              "      <td id=\"T_d6da6_row1_col3\" class=\"data row1 col3\" >True</td>\n",
              "      <td id=\"T_d6da6_row1_col4\" class=\"data row1 col4\" >no</td>\n",
              "    </tr>\n",
              "    <tr>\n",
              "      <th id=\"T_d6da6_level0_row2\" class=\"row_heading level0 row2\" >2</th>\n",
              "      <td id=\"T_d6da6_row2_col0\" class=\"data row2 col0\" >overcast</td>\n",
              "      <td id=\"T_d6da6_row2_col1\" class=\"data row2 col1\" >hot</td>\n",
              "      <td id=\"T_d6da6_row2_col2\" class=\"data row2 col2\" >high</td>\n",
              "      <td id=\"T_d6da6_row2_col3\" class=\"data row2 col3\" >False</td>\n",
              "      <td id=\"T_d6da6_row2_col4\" class=\"data row2 col4\" >yes</td>\n",
              "    </tr>\n",
              "    <tr>\n",
              "      <th id=\"T_d6da6_level0_row3\" class=\"row_heading level0 row3\" >3</th>\n",
              "      <td id=\"T_d6da6_row3_col0\" class=\"data row3 col0\" >rainy</td>\n",
              "      <td id=\"T_d6da6_row3_col1\" class=\"data row3 col1\" >mild</td>\n",
              "      <td id=\"T_d6da6_row3_col2\" class=\"data row3 col2\" >high</td>\n",
              "      <td id=\"T_d6da6_row3_col3\" class=\"data row3 col3\" >False</td>\n",
              "      <td id=\"T_d6da6_row3_col4\" class=\"data row3 col4\" >yes</td>\n",
              "    </tr>\n",
              "    <tr>\n",
              "      <th id=\"T_d6da6_level0_row4\" class=\"row_heading level0 row4\" >4</th>\n",
              "      <td id=\"T_d6da6_row4_col0\" class=\"data row4 col0\" >rainy</td>\n",
              "      <td id=\"T_d6da6_row4_col1\" class=\"data row4 col1\" >cool</td>\n",
              "      <td id=\"T_d6da6_row4_col2\" class=\"data row4 col2\" >normal</td>\n",
              "      <td id=\"T_d6da6_row4_col3\" class=\"data row4 col3\" >False</td>\n",
              "      <td id=\"T_d6da6_row4_col4\" class=\"data row4 col4\" >yes</td>\n",
              "    </tr>\n",
              "    <tr>\n",
              "      <th id=\"T_d6da6_level0_row5\" class=\"row_heading level0 row5\" >5</th>\n",
              "      <td id=\"T_d6da6_row5_col0\" class=\"data row5 col0\" >rainy</td>\n",
              "      <td id=\"T_d6da6_row5_col1\" class=\"data row5 col1\" >cool</td>\n",
              "      <td id=\"T_d6da6_row5_col2\" class=\"data row5 col2\" >normal</td>\n",
              "      <td id=\"T_d6da6_row5_col3\" class=\"data row5 col3\" >True</td>\n",
              "      <td id=\"T_d6da6_row5_col4\" class=\"data row5 col4\" >no</td>\n",
              "    </tr>\n",
              "    <tr>\n",
              "      <th id=\"T_d6da6_level0_row6\" class=\"row_heading level0 row6\" >6</th>\n",
              "      <td id=\"T_d6da6_row6_col0\" class=\"data row6 col0\" >overcast</td>\n",
              "      <td id=\"T_d6da6_row6_col1\" class=\"data row6 col1\" >cool</td>\n",
              "      <td id=\"T_d6da6_row6_col2\" class=\"data row6 col2\" >normal</td>\n",
              "      <td id=\"T_d6da6_row6_col3\" class=\"data row6 col3\" >True</td>\n",
              "      <td id=\"T_d6da6_row6_col4\" class=\"data row6 col4\" >yes</td>\n",
              "    </tr>\n",
              "    <tr>\n",
              "      <th id=\"T_d6da6_level0_row7\" class=\"row_heading level0 row7\" >7</th>\n",
              "      <td id=\"T_d6da6_row7_col0\" class=\"data row7 col0\" >sunny</td>\n",
              "      <td id=\"T_d6da6_row7_col1\" class=\"data row7 col1\" >mild</td>\n",
              "      <td id=\"T_d6da6_row7_col2\" class=\"data row7 col2\" >high</td>\n",
              "      <td id=\"T_d6da6_row7_col3\" class=\"data row7 col3\" >False</td>\n",
              "      <td id=\"T_d6da6_row7_col4\" class=\"data row7 col4\" >no</td>\n",
              "    </tr>\n",
              "    <tr>\n",
              "      <th id=\"T_d6da6_level0_row8\" class=\"row_heading level0 row8\" >8</th>\n",
              "      <td id=\"T_d6da6_row8_col0\" class=\"data row8 col0\" >sunny</td>\n",
              "      <td id=\"T_d6da6_row8_col1\" class=\"data row8 col1\" >cool</td>\n",
              "      <td id=\"T_d6da6_row8_col2\" class=\"data row8 col2\" >normal</td>\n",
              "      <td id=\"T_d6da6_row8_col3\" class=\"data row8 col3\" >False</td>\n",
              "      <td id=\"T_d6da6_row8_col4\" class=\"data row8 col4\" >yes</td>\n",
              "    </tr>\n",
              "    <tr>\n",
              "      <th id=\"T_d6da6_level0_row9\" class=\"row_heading level0 row9\" >9</th>\n",
              "      <td id=\"T_d6da6_row9_col0\" class=\"data row9 col0\" >rainy</td>\n",
              "      <td id=\"T_d6da6_row9_col1\" class=\"data row9 col1\" >mild</td>\n",
              "      <td id=\"T_d6da6_row9_col2\" class=\"data row9 col2\" >normal</td>\n",
              "      <td id=\"T_d6da6_row9_col3\" class=\"data row9 col3\" >False</td>\n",
              "      <td id=\"T_d6da6_row9_col4\" class=\"data row9 col4\" >yes</td>\n",
              "    </tr>\n",
              "    <tr>\n",
              "      <th id=\"T_d6da6_level0_row10\" class=\"row_heading level0 row10\" >10</th>\n",
              "      <td id=\"T_d6da6_row10_col0\" class=\"data row10 col0\" >sunny</td>\n",
              "      <td id=\"T_d6da6_row10_col1\" class=\"data row10 col1\" >mild</td>\n",
              "      <td id=\"T_d6da6_row10_col2\" class=\"data row10 col2\" >normal</td>\n",
              "      <td id=\"T_d6da6_row10_col3\" class=\"data row10 col3\" >True</td>\n",
              "      <td id=\"T_d6da6_row10_col4\" class=\"data row10 col4\" >yes</td>\n",
              "    </tr>\n",
              "    <tr>\n",
              "      <th id=\"T_d6da6_level0_row11\" class=\"row_heading level0 row11\" >11</th>\n",
              "      <td id=\"T_d6da6_row11_col0\" class=\"data row11 col0\" >overcast</td>\n",
              "      <td id=\"T_d6da6_row11_col1\" class=\"data row11 col1\" >mild</td>\n",
              "      <td id=\"T_d6da6_row11_col2\" class=\"data row11 col2\" >high</td>\n",
              "      <td id=\"T_d6da6_row11_col3\" class=\"data row11 col3\" >True</td>\n",
              "      <td id=\"T_d6da6_row11_col4\" class=\"data row11 col4\" >yes</td>\n",
              "    </tr>\n",
              "    <tr>\n",
              "      <th id=\"T_d6da6_level0_row12\" class=\"row_heading level0 row12\" >12</th>\n",
              "      <td id=\"T_d6da6_row12_col0\" class=\"data row12 col0\" >overcast</td>\n",
              "      <td id=\"T_d6da6_row12_col1\" class=\"data row12 col1\" >hot</td>\n",
              "      <td id=\"T_d6da6_row12_col2\" class=\"data row12 col2\" >normal</td>\n",
              "      <td id=\"T_d6da6_row12_col3\" class=\"data row12 col3\" >False</td>\n",
              "      <td id=\"T_d6da6_row12_col4\" class=\"data row12 col4\" >yes</td>\n",
              "    </tr>\n",
              "    <tr>\n",
              "      <th id=\"T_d6da6_level0_row13\" class=\"row_heading level0 row13\" >13</th>\n",
              "      <td id=\"T_d6da6_row13_col0\" class=\"data row13 col0\" >rainy</td>\n",
              "      <td id=\"T_d6da6_row13_col1\" class=\"data row13 col1\" >mild</td>\n",
              "      <td id=\"T_d6da6_row13_col2\" class=\"data row13 col2\" >high</td>\n",
              "      <td id=\"T_d6da6_row13_col3\" class=\"data row13 col3\" >True</td>\n",
              "      <td id=\"T_d6da6_row13_col4\" class=\"data row13 col4\" >no</td>\n",
              "    </tr>\n",
              "  </tbody>\n",
              "</table>\n"
            ]
          },
          "metadata": {},
          "execution_count": 13
        }
      ]
    },
    {
      "cell_type": "code",
      "source": [
        "def find_entropy(data):\n",
        "    \"\"\"\n",
        "    Returns the entropy of the class or features\n",
        "    formula: - ∑ P(X)logP(X)\n",
        "    \"\"\"\n",
        "    entropy = 0\n",
        "    for i in range(data.nunique()):\n",
        "        x = data.value_counts()[i]/data.shape[0]\n",
        "        entropy += (- x * math.log(x,2))\n",
        "    return round(entropy,3)\n",
        "\n",
        "\n",
        "\n",
        "def information_gain(data, data_):\n",
        "    \"\"\"\n",
        "    Returns the information gain of the features\n",
        "    \"\"\"\n",
        "    info = 0\n",
        "    for i in range(data_.nunique()):\n",
        "        df = data[data_ == data_.unique()[i]]\n",
        "        w_avg = df.shape[0]/data.shape[0]\n",
        "        entropy = find_entropy(df.play)\n",
        "        x = w_avg * entropy\n",
        "        info += x\n",
        "    ig = find_entropy(data.play) - info\n",
        "    return round(ig, 3)\n",
        "\n",
        "\n",
        "\n",
        "def entropy_and_infogain(datax, feature):\n",
        "    \"\"\"\n",
        "    Grouping features with the same class and computing their\n",
        "    entropy and information gain for splitting\n",
        "    \"\"\"\n",
        "    for i in range(data[feature].nunique()):\n",
        "        df = datax[datax[feature]==data[feature].unique()[i]]\n",
        "        if df.shape[0] < 1:\n",
        "            continue\n",
        "\n",
        "        display(df[[feature, 'play']].style.applymap(highlight)\\\n",
        "                .set_properties(subset=[feature, 'play'], **{'width': '80px'})\\\n",
        "                .set_table_styles([{'selector': 'th', 'props': [('background-color', 'lightgray'),\n",
        "                                                                ('border', '1px solid gray'),\n",
        "                                                                ('font-weight', 'bold')]},\n",
        "                                   {'selector': 'td', 'props': [('border', '1px solid gray')]},\n",
        "                                   {'selector': 'tr:hover', 'props': [('background-color', 'white'),\n",
        "                                                                      ('border', '1.5px solid black')]}]))\n",
        "\n",
        "        print(f'Entropy of {feature} - {data[feature].unique()[i]} = {find_entropy(df.play)}')\n",
        "    print(f'Information Gain for {feature} = {information_gain(datax, datax[feature])}')\n"
      ],
      "metadata": {
        "id": "rp4rHc6nh860"
      },
      "execution_count": 14,
      "outputs": []
    },
    {
      "cell_type": "code",
      "source": [
        "print(f'Entropy of the entire dataset: {find_entropy(data.play)}')"
      ],
      "metadata": {
        "colab": {
          "base_uri": "https://localhost:8080/"
        },
        "id": "m_sfgwGliXcD",
        "outputId": "90fda2b8-5291-497c-f7ab-31c5c62ae859"
      },
      "execution_count": 15,
      "outputs": [
        {
          "output_type": "stream",
          "name": "stdout",
          "text": [
            "Entropy of the entire dataset: 0.94\n"
          ]
        }
      ]
    },
    {
      "cell_type": "code",
      "source": [
        "entropy_and_infogain(data, 'outlook')"
      ],
      "metadata": {
        "colab": {
          "base_uri": "https://localhost:8080/",
          "height": 640
        },
        "id": "5QM_j3K2iapi",
        "outputId": "eaf332fe-0579-41ad-ce91-4f7462e2c190"
      },
      "execution_count": 16,
      "outputs": [
        {
          "output_type": "display_data",
          "data": {
            "text/plain": [
              "<pandas.io.formats.style.Styler at 0x7d488e1d68c0>"
            ],
            "text/html": [
              "<style type=\"text/css\">\n",
              "#T_0e280 th {\n",
              "  background-color: lightgray;\n",
              "  border: 1px solid gray;\n",
              "  font-weight: bold;\n",
              "}\n",
              "#T_0e280 td {\n",
              "  border: 1px solid gray;\n",
              "}\n",
              "#T_0e280 tr:hover {\n",
              "  background-color: white;\n",
              "  border: 1.5px solid black;\n",
              "}\n",
              "#T_0e280_row0_col0, #T_0e280_row1_col0, #T_0e280_row2_col0, #T_0e280_row3_col0, #T_0e280_row4_col0 {\n",
              "  width: 80px;\n",
              "}\n",
              "#T_0e280_row0_col1, #T_0e280_row1_col1, #T_0e280_row2_col1 {\n",
              "  background-color: pink;\n",
              "  width: 80px;\n",
              "}\n",
              "#T_0e280_row3_col1, #T_0e280_row4_col1 {\n",
              "  background-color: lightgreen;\n",
              "  width: 80px;\n",
              "}\n",
              "</style>\n",
              "<table id=\"T_0e280\" class=\"dataframe\">\n",
              "  <thead>\n",
              "    <tr>\n",
              "      <th class=\"blank level0\" >&nbsp;</th>\n",
              "      <th id=\"T_0e280_level0_col0\" class=\"col_heading level0 col0\" >outlook</th>\n",
              "      <th id=\"T_0e280_level0_col1\" class=\"col_heading level0 col1\" >play</th>\n",
              "    </tr>\n",
              "  </thead>\n",
              "  <tbody>\n",
              "    <tr>\n",
              "      <th id=\"T_0e280_level0_row0\" class=\"row_heading level0 row0\" >0</th>\n",
              "      <td id=\"T_0e280_row0_col0\" class=\"data row0 col0\" >sunny</td>\n",
              "      <td id=\"T_0e280_row0_col1\" class=\"data row0 col1\" >no</td>\n",
              "    </tr>\n",
              "    <tr>\n",
              "      <th id=\"T_0e280_level0_row1\" class=\"row_heading level0 row1\" >1</th>\n",
              "      <td id=\"T_0e280_row1_col0\" class=\"data row1 col0\" >sunny</td>\n",
              "      <td id=\"T_0e280_row1_col1\" class=\"data row1 col1\" >no</td>\n",
              "    </tr>\n",
              "    <tr>\n",
              "      <th id=\"T_0e280_level0_row2\" class=\"row_heading level0 row2\" >7</th>\n",
              "      <td id=\"T_0e280_row2_col0\" class=\"data row2 col0\" >sunny</td>\n",
              "      <td id=\"T_0e280_row2_col1\" class=\"data row2 col1\" >no</td>\n",
              "    </tr>\n",
              "    <tr>\n",
              "      <th id=\"T_0e280_level0_row3\" class=\"row_heading level0 row3\" >8</th>\n",
              "      <td id=\"T_0e280_row3_col0\" class=\"data row3 col0\" >sunny</td>\n",
              "      <td id=\"T_0e280_row3_col1\" class=\"data row3 col1\" >yes</td>\n",
              "    </tr>\n",
              "    <tr>\n",
              "      <th id=\"T_0e280_level0_row4\" class=\"row_heading level0 row4\" >10</th>\n",
              "      <td id=\"T_0e280_row4_col0\" class=\"data row4 col0\" >sunny</td>\n",
              "      <td id=\"T_0e280_row4_col1\" class=\"data row4 col1\" >yes</td>\n",
              "    </tr>\n",
              "  </tbody>\n",
              "</table>\n"
            ]
          },
          "metadata": {}
        },
        {
          "output_type": "stream",
          "name": "stdout",
          "text": [
            "Entropy of outlook - sunny = 0.971\n"
          ]
        },
        {
          "output_type": "display_data",
          "data": {
            "text/plain": [
              "<pandas.io.formats.style.Styler at 0x7d488e1d68c0>"
            ],
            "text/html": [
              "<style type=\"text/css\">\n",
              "#T_53555 th {\n",
              "  background-color: lightgray;\n",
              "  border: 1px solid gray;\n",
              "  font-weight: bold;\n",
              "}\n",
              "#T_53555 td {\n",
              "  border: 1px solid gray;\n",
              "}\n",
              "#T_53555 tr:hover {\n",
              "  background-color: white;\n",
              "  border: 1.5px solid black;\n",
              "}\n",
              "#T_53555_row0_col0, #T_53555_row1_col0, #T_53555_row2_col0, #T_53555_row3_col0 {\n",
              "  width: 80px;\n",
              "}\n",
              "#T_53555_row0_col1, #T_53555_row1_col1, #T_53555_row2_col1, #T_53555_row3_col1 {\n",
              "  background-color: lightgreen;\n",
              "  width: 80px;\n",
              "}\n",
              "</style>\n",
              "<table id=\"T_53555\" class=\"dataframe\">\n",
              "  <thead>\n",
              "    <tr>\n",
              "      <th class=\"blank level0\" >&nbsp;</th>\n",
              "      <th id=\"T_53555_level0_col0\" class=\"col_heading level0 col0\" >outlook</th>\n",
              "      <th id=\"T_53555_level0_col1\" class=\"col_heading level0 col1\" >play</th>\n",
              "    </tr>\n",
              "  </thead>\n",
              "  <tbody>\n",
              "    <tr>\n",
              "      <th id=\"T_53555_level0_row0\" class=\"row_heading level0 row0\" >2</th>\n",
              "      <td id=\"T_53555_row0_col0\" class=\"data row0 col0\" >overcast</td>\n",
              "      <td id=\"T_53555_row0_col1\" class=\"data row0 col1\" >yes</td>\n",
              "    </tr>\n",
              "    <tr>\n",
              "      <th id=\"T_53555_level0_row1\" class=\"row_heading level0 row1\" >6</th>\n",
              "      <td id=\"T_53555_row1_col0\" class=\"data row1 col0\" >overcast</td>\n",
              "      <td id=\"T_53555_row1_col1\" class=\"data row1 col1\" >yes</td>\n",
              "    </tr>\n",
              "    <tr>\n",
              "      <th id=\"T_53555_level0_row2\" class=\"row_heading level0 row2\" >11</th>\n",
              "      <td id=\"T_53555_row2_col0\" class=\"data row2 col0\" >overcast</td>\n",
              "      <td id=\"T_53555_row2_col1\" class=\"data row2 col1\" >yes</td>\n",
              "    </tr>\n",
              "    <tr>\n",
              "      <th id=\"T_53555_level0_row3\" class=\"row_heading level0 row3\" >12</th>\n",
              "      <td id=\"T_53555_row3_col0\" class=\"data row3 col0\" >overcast</td>\n",
              "      <td id=\"T_53555_row3_col1\" class=\"data row3 col1\" >yes</td>\n",
              "    </tr>\n",
              "  </tbody>\n",
              "</table>\n"
            ]
          },
          "metadata": {}
        },
        {
          "output_type": "stream",
          "name": "stdout",
          "text": [
            "Entropy of outlook - overcast = 0.0\n"
          ]
        },
        {
          "output_type": "display_data",
          "data": {
            "text/plain": [
              "<pandas.io.formats.style.Styler at 0x7d488e1d68c0>"
            ],
            "text/html": [
              "<style type=\"text/css\">\n",
              "#T_76943 th {\n",
              "  background-color: lightgray;\n",
              "  border: 1px solid gray;\n",
              "  font-weight: bold;\n",
              "}\n",
              "#T_76943 td {\n",
              "  border: 1px solid gray;\n",
              "}\n",
              "#T_76943 tr:hover {\n",
              "  background-color: white;\n",
              "  border: 1.5px solid black;\n",
              "}\n",
              "#T_76943_row0_col0, #T_76943_row1_col0, #T_76943_row2_col0, #T_76943_row3_col0, #T_76943_row4_col0 {\n",
              "  width: 80px;\n",
              "}\n",
              "#T_76943_row0_col1, #T_76943_row1_col1, #T_76943_row3_col1 {\n",
              "  background-color: lightgreen;\n",
              "  width: 80px;\n",
              "}\n",
              "#T_76943_row2_col1, #T_76943_row4_col1 {\n",
              "  background-color: pink;\n",
              "  width: 80px;\n",
              "}\n",
              "</style>\n",
              "<table id=\"T_76943\" class=\"dataframe\">\n",
              "  <thead>\n",
              "    <tr>\n",
              "      <th class=\"blank level0\" >&nbsp;</th>\n",
              "      <th id=\"T_76943_level0_col0\" class=\"col_heading level0 col0\" >outlook</th>\n",
              "      <th id=\"T_76943_level0_col1\" class=\"col_heading level0 col1\" >play</th>\n",
              "    </tr>\n",
              "  </thead>\n",
              "  <tbody>\n",
              "    <tr>\n",
              "      <th id=\"T_76943_level0_row0\" class=\"row_heading level0 row0\" >3</th>\n",
              "      <td id=\"T_76943_row0_col0\" class=\"data row0 col0\" >rainy</td>\n",
              "      <td id=\"T_76943_row0_col1\" class=\"data row0 col1\" >yes</td>\n",
              "    </tr>\n",
              "    <tr>\n",
              "      <th id=\"T_76943_level0_row1\" class=\"row_heading level0 row1\" >4</th>\n",
              "      <td id=\"T_76943_row1_col0\" class=\"data row1 col0\" >rainy</td>\n",
              "      <td id=\"T_76943_row1_col1\" class=\"data row1 col1\" >yes</td>\n",
              "    </tr>\n",
              "    <tr>\n",
              "      <th id=\"T_76943_level0_row2\" class=\"row_heading level0 row2\" >5</th>\n",
              "      <td id=\"T_76943_row2_col0\" class=\"data row2 col0\" >rainy</td>\n",
              "      <td id=\"T_76943_row2_col1\" class=\"data row2 col1\" >no</td>\n",
              "    </tr>\n",
              "    <tr>\n",
              "      <th id=\"T_76943_level0_row3\" class=\"row_heading level0 row3\" >9</th>\n",
              "      <td id=\"T_76943_row3_col0\" class=\"data row3 col0\" >rainy</td>\n",
              "      <td id=\"T_76943_row3_col1\" class=\"data row3 col1\" >yes</td>\n",
              "    </tr>\n",
              "    <tr>\n",
              "      <th id=\"T_76943_level0_row4\" class=\"row_heading level0 row4\" >13</th>\n",
              "      <td id=\"T_76943_row4_col0\" class=\"data row4 col0\" >rainy</td>\n",
              "      <td id=\"T_76943_row4_col1\" class=\"data row4 col1\" >no</td>\n",
              "    </tr>\n",
              "  </tbody>\n",
              "</table>\n"
            ]
          },
          "metadata": {}
        },
        {
          "output_type": "stream",
          "name": "stdout",
          "text": [
            "Entropy of outlook - rainy = 0.971\n",
            "Information Gain for outlook = 0.246\n"
          ]
        }
      ]
    },
    {
      "cell_type": "code",
      "source": [
        "entropy_and_infogain(data, 'temp')"
      ],
      "metadata": {
        "colab": {
          "base_uri": "https://localhost:8080/",
          "height": 640
        },
        "id": "I2D1l-ZKjMPL",
        "outputId": "793288bc-ef27-4e7c-e8a9-cf5f0f809cbe"
      },
      "execution_count": 17,
      "outputs": [
        {
          "output_type": "display_data",
          "data": {
            "text/plain": [
              "<pandas.io.formats.style.Styler at 0x7d488e1d4790>"
            ],
            "text/html": [
              "<style type=\"text/css\">\n",
              "#T_af871 th {\n",
              "  background-color: lightgray;\n",
              "  border: 1px solid gray;\n",
              "  font-weight: bold;\n",
              "}\n",
              "#T_af871 td {\n",
              "  border: 1px solid gray;\n",
              "}\n",
              "#T_af871 tr:hover {\n",
              "  background-color: white;\n",
              "  border: 1.5px solid black;\n",
              "}\n",
              "#T_af871_row0_col0, #T_af871_row1_col0, #T_af871_row2_col0, #T_af871_row3_col0 {\n",
              "  width: 80px;\n",
              "}\n",
              "#T_af871_row0_col1, #T_af871_row1_col1 {\n",
              "  background-color: pink;\n",
              "  width: 80px;\n",
              "}\n",
              "#T_af871_row2_col1, #T_af871_row3_col1 {\n",
              "  background-color: lightgreen;\n",
              "  width: 80px;\n",
              "}\n",
              "</style>\n",
              "<table id=\"T_af871\" class=\"dataframe\">\n",
              "  <thead>\n",
              "    <tr>\n",
              "      <th class=\"blank level0\" >&nbsp;</th>\n",
              "      <th id=\"T_af871_level0_col0\" class=\"col_heading level0 col0\" >temp</th>\n",
              "      <th id=\"T_af871_level0_col1\" class=\"col_heading level0 col1\" >play</th>\n",
              "    </tr>\n",
              "  </thead>\n",
              "  <tbody>\n",
              "    <tr>\n",
              "      <th id=\"T_af871_level0_row0\" class=\"row_heading level0 row0\" >0</th>\n",
              "      <td id=\"T_af871_row0_col0\" class=\"data row0 col0\" >hot</td>\n",
              "      <td id=\"T_af871_row0_col1\" class=\"data row0 col1\" >no</td>\n",
              "    </tr>\n",
              "    <tr>\n",
              "      <th id=\"T_af871_level0_row1\" class=\"row_heading level0 row1\" >1</th>\n",
              "      <td id=\"T_af871_row1_col0\" class=\"data row1 col0\" >hot</td>\n",
              "      <td id=\"T_af871_row1_col1\" class=\"data row1 col1\" >no</td>\n",
              "    </tr>\n",
              "    <tr>\n",
              "      <th id=\"T_af871_level0_row2\" class=\"row_heading level0 row2\" >2</th>\n",
              "      <td id=\"T_af871_row2_col0\" class=\"data row2 col0\" >hot</td>\n",
              "      <td id=\"T_af871_row2_col1\" class=\"data row2 col1\" >yes</td>\n",
              "    </tr>\n",
              "    <tr>\n",
              "      <th id=\"T_af871_level0_row3\" class=\"row_heading level0 row3\" >12</th>\n",
              "      <td id=\"T_af871_row3_col0\" class=\"data row3 col0\" >hot</td>\n",
              "      <td id=\"T_af871_row3_col1\" class=\"data row3 col1\" >yes</td>\n",
              "    </tr>\n",
              "  </tbody>\n",
              "</table>\n"
            ]
          },
          "metadata": {}
        },
        {
          "output_type": "stream",
          "name": "stdout",
          "text": [
            "Entropy of temp - hot = 1.0\n"
          ]
        },
        {
          "output_type": "display_data",
          "data": {
            "text/plain": [
              "<pandas.io.formats.style.Styler at 0x7d488e1d4790>"
            ],
            "text/html": [
              "<style type=\"text/css\">\n",
              "#T_397c1 th {\n",
              "  background-color: lightgray;\n",
              "  border: 1px solid gray;\n",
              "  font-weight: bold;\n",
              "}\n",
              "#T_397c1 td {\n",
              "  border: 1px solid gray;\n",
              "}\n",
              "#T_397c1 tr:hover {\n",
              "  background-color: white;\n",
              "  border: 1.5px solid black;\n",
              "}\n",
              "#T_397c1_row0_col0, #T_397c1_row1_col0, #T_397c1_row2_col0, #T_397c1_row3_col0, #T_397c1_row4_col0, #T_397c1_row5_col0 {\n",
              "  width: 80px;\n",
              "}\n",
              "#T_397c1_row0_col1, #T_397c1_row2_col1, #T_397c1_row3_col1, #T_397c1_row4_col1 {\n",
              "  background-color: lightgreen;\n",
              "  width: 80px;\n",
              "}\n",
              "#T_397c1_row1_col1, #T_397c1_row5_col1 {\n",
              "  background-color: pink;\n",
              "  width: 80px;\n",
              "}\n",
              "</style>\n",
              "<table id=\"T_397c1\" class=\"dataframe\">\n",
              "  <thead>\n",
              "    <tr>\n",
              "      <th class=\"blank level0\" >&nbsp;</th>\n",
              "      <th id=\"T_397c1_level0_col0\" class=\"col_heading level0 col0\" >temp</th>\n",
              "      <th id=\"T_397c1_level0_col1\" class=\"col_heading level0 col1\" >play</th>\n",
              "    </tr>\n",
              "  </thead>\n",
              "  <tbody>\n",
              "    <tr>\n",
              "      <th id=\"T_397c1_level0_row0\" class=\"row_heading level0 row0\" >3</th>\n",
              "      <td id=\"T_397c1_row0_col0\" class=\"data row0 col0\" >mild</td>\n",
              "      <td id=\"T_397c1_row0_col1\" class=\"data row0 col1\" >yes</td>\n",
              "    </tr>\n",
              "    <tr>\n",
              "      <th id=\"T_397c1_level0_row1\" class=\"row_heading level0 row1\" >7</th>\n",
              "      <td id=\"T_397c1_row1_col0\" class=\"data row1 col0\" >mild</td>\n",
              "      <td id=\"T_397c1_row1_col1\" class=\"data row1 col1\" >no</td>\n",
              "    </tr>\n",
              "    <tr>\n",
              "      <th id=\"T_397c1_level0_row2\" class=\"row_heading level0 row2\" >9</th>\n",
              "      <td id=\"T_397c1_row2_col0\" class=\"data row2 col0\" >mild</td>\n",
              "      <td id=\"T_397c1_row2_col1\" class=\"data row2 col1\" >yes</td>\n",
              "    </tr>\n",
              "    <tr>\n",
              "      <th id=\"T_397c1_level0_row3\" class=\"row_heading level0 row3\" >10</th>\n",
              "      <td id=\"T_397c1_row3_col0\" class=\"data row3 col0\" >mild</td>\n",
              "      <td id=\"T_397c1_row3_col1\" class=\"data row3 col1\" >yes</td>\n",
              "    </tr>\n",
              "    <tr>\n",
              "      <th id=\"T_397c1_level0_row4\" class=\"row_heading level0 row4\" >11</th>\n",
              "      <td id=\"T_397c1_row4_col0\" class=\"data row4 col0\" >mild</td>\n",
              "      <td id=\"T_397c1_row4_col1\" class=\"data row4 col1\" >yes</td>\n",
              "    </tr>\n",
              "    <tr>\n",
              "      <th id=\"T_397c1_level0_row5\" class=\"row_heading level0 row5\" >13</th>\n",
              "      <td id=\"T_397c1_row5_col0\" class=\"data row5 col0\" >mild</td>\n",
              "      <td id=\"T_397c1_row5_col1\" class=\"data row5 col1\" >no</td>\n",
              "    </tr>\n",
              "  </tbody>\n",
              "</table>\n"
            ]
          },
          "metadata": {}
        },
        {
          "output_type": "stream",
          "name": "stdout",
          "text": [
            "Entropy of temp - mild = 0.918\n"
          ]
        },
        {
          "output_type": "display_data",
          "data": {
            "text/plain": [
              "<pandas.io.formats.style.Styler at 0x7d488e1d4790>"
            ],
            "text/html": [
              "<style type=\"text/css\">\n",
              "#T_e6dd0 th {\n",
              "  background-color: lightgray;\n",
              "  border: 1px solid gray;\n",
              "  font-weight: bold;\n",
              "}\n",
              "#T_e6dd0 td {\n",
              "  border: 1px solid gray;\n",
              "}\n",
              "#T_e6dd0 tr:hover {\n",
              "  background-color: white;\n",
              "  border: 1.5px solid black;\n",
              "}\n",
              "#T_e6dd0_row0_col0, #T_e6dd0_row1_col0, #T_e6dd0_row2_col0, #T_e6dd0_row3_col0 {\n",
              "  width: 80px;\n",
              "}\n",
              "#T_e6dd0_row0_col1, #T_e6dd0_row2_col1, #T_e6dd0_row3_col1 {\n",
              "  background-color: lightgreen;\n",
              "  width: 80px;\n",
              "}\n",
              "#T_e6dd0_row1_col1 {\n",
              "  background-color: pink;\n",
              "  width: 80px;\n",
              "}\n",
              "</style>\n",
              "<table id=\"T_e6dd0\" class=\"dataframe\">\n",
              "  <thead>\n",
              "    <tr>\n",
              "      <th class=\"blank level0\" >&nbsp;</th>\n",
              "      <th id=\"T_e6dd0_level0_col0\" class=\"col_heading level0 col0\" >temp</th>\n",
              "      <th id=\"T_e6dd0_level0_col1\" class=\"col_heading level0 col1\" >play</th>\n",
              "    </tr>\n",
              "  </thead>\n",
              "  <tbody>\n",
              "    <tr>\n",
              "      <th id=\"T_e6dd0_level0_row0\" class=\"row_heading level0 row0\" >4</th>\n",
              "      <td id=\"T_e6dd0_row0_col0\" class=\"data row0 col0\" >cool</td>\n",
              "      <td id=\"T_e6dd0_row0_col1\" class=\"data row0 col1\" >yes</td>\n",
              "    </tr>\n",
              "    <tr>\n",
              "      <th id=\"T_e6dd0_level0_row1\" class=\"row_heading level0 row1\" >5</th>\n",
              "      <td id=\"T_e6dd0_row1_col0\" class=\"data row1 col0\" >cool</td>\n",
              "      <td id=\"T_e6dd0_row1_col1\" class=\"data row1 col1\" >no</td>\n",
              "    </tr>\n",
              "    <tr>\n",
              "      <th id=\"T_e6dd0_level0_row2\" class=\"row_heading level0 row2\" >6</th>\n",
              "      <td id=\"T_e6dd0_row2_col0\" class=\"data row2 col0\" >cool</td>\n",
              "      <td id=\"T_e6dd0_row2_col1\" class=\"data row2 col1\" >yes</td>\n",
              "    </tr>\n",
              "    <tr>\n",
              "      <th id=\"T_e6dd0_level0_row3\" class=\"row_heading level0 row3\" >8</th>\n",
              "      <td id=\"T_e6dd0_row3_col0\" class=\"data row3 col0\" >cool</td>\n",
              "      <td id=\"T_e6dd0_row3_col1\" class=\"data row3 col1\" >yes</td>\n",
              "    </tr>\n",
              "  </tbody>\n",
              "</table>\n"
            ]
          },
          "metadata": {}
        },
        {
          "output_type": "stream",
          "name": "stdout",
          "text": [
            "Entropy of temp - cool = 0.811\n",
            "Information Gain for temp = 0.029\n"
          ]
        }
      ]
    },
    {
      "cell_type": "code",
      "source": [
        "entropy_and_infogain(data, 'humidity')"
      ],
      "metadata": {
        "colab": {
          "base_uri": "https://localhost:8080/",
          "height": 589
        },
        "id": "mvjTENoSkHmc",
        "outputId": "380352e9-9ec9-4d9a-d3ae-05440ab574af"
      },
      "execution_count": 18,
      "outputs": [
        {
          "output_type": "display_data",
          "data": {
            "text/plain": [
              "<pandas.io.formats.style.Styler at 0x7d488e1d6920>"
            ],
            "text/html": [
              "<style type=\"text/css\">\n",
              "#T_1ed92 th {\n",
              "  background-color: lightgray;\n",
              "  border: 1px solid gray;\n",
              "  font-weight: bold;\n",
              "}\n",
              "#T_1ed92 td {\n",
              "  border: 1px solid gray;\n",
              "}\n",
              "#T_1ed92 tr:hover {\n",
              "  background-color: white;\n",
              "  border: 1.5px solid black;\n",
              "}\n",
              "#T_1ed92_row0_col0, #T_1ed92_row1_col0, #T_1ed92_row2_col0, #T_1ed92_row3_col0, #T_1ed92_row4_col0, #T_1ed92_row5_col0, #T_1ed92_row6_col0 {\n",
              "  width: 80px;\n",
              "}\n",
              "#T_1ed92_row0_col1, #T_1ed92_row1_col1, #T_1ed92_row4_col1, #T_1ed92_row6_col1 {\n",
              "  background-color: pink;\n",
              "  width: 80px;\n",
              "}\n",
              "#T_1ed92_row2_col1, #T_1ed92_row3_col1, #T_1ed92_row5_col1 {\n",
              "  background-color: lightgreen;\n",
              "  width: 80px;\n",
              "}\n",
              "</style>\n",
              "<table id=\"T_1ed92\" class=\"dataframe\">\n",
              "  <thead>\n",
              "    <tr>\n",
              "      <th class=\"blank level0\" >&nbsp;</th>\n",
              "      <th id=\"T_1ed92_level0_col0\" class=\"col_heading level0 col0\" >humidity</th>\n",
              "      <th id=\"T_1ed92_level0_col1\" class=\"col_heading level0 col1\" >play</th>\n",
              "    </tr>\n",
              "  </thead>\n",
              "  <tbody>\n",
              "    <tr>\n",
              "      <th id=\"T_1ed92_level0_row0\" class=\"row_heading level0 row0\" >0</th>\n",
              "      <td id=\"T_1ed92_row0_col0\" class=\"data row0 col0\" >high</td>\n",
              "      <td id=\"T_1ed92_row0_col1\" class=\"data row0 col1\" >no</td>\n",
              "    </tr>\n",
              "    <tr>\n",
              "      <th id=\"T_1ed92_level0_row1\" class=\"row_heading level0 row1\" >1</th>\n",
              "      <td id=\"T_1ed92_row1_col0\" class=\"data row1 col0\" >high</td>\n",
              "      <td id=\"T_1ed92_row1_col1\" class=\"data row1 col1\" >no</td>\n",
              "    </tr>\n",
              "    <tr>\n",
              "      <th id=\"T_1ed92_level0_row2\" class=\"row_heading level0 row2\" >2</th>\n",
              "      <td id=\"T_1ed92_row2_col0\" class=\"data row2 col0\" >high</td>\n",
              "      <td id=\"T_1ed92_row2_col1\" class=\"data row2 col1\" >yes</td>\n",
              "    </tr>\n",
              "    <tr>\n",
              "      <th id=\"T_1ed92_level0_row3\" class=\"row_heading level0 row3\" >3</th>\n",
              "      <td id=\"T_1ed92_row3_col0\" class=\"data row3 col0\" >high</td>\n",
              "      <td id=\"T_1ed92_row3_col1\" class=\"data row3 col1\" >yes</td>\n",
              "    </tr>\n",
              "    <tr>\n",
              "      <th id=\"T_1ed92_level0_row4\" class=\"row_heading level0 row4\" >7</th>\n",
              "      <td id=\"T_1ed92_row4_col0\" class=\"data row4 col0\" >high</td>\n",
              "      <td id=\"T_1ed92_row4_col1\" class=\"data row4 col1\" >no</td>\n",
              "    </tr>\n",
              "    <tr>\n",
              "      <th id=\"T_1ed92_level0_row5\" class=\"row_heading level0 row5\" >11</th>\n",
              "      <td id=\"T_1ed92_row5_col0\" class=\"data row5 col0\" >high</td>\n",
              "      <td id=\"T_1ed92_row5_col1\" class=\"data row5 col1\" >yes</td>\n",
              "    </tr>\n",
              "    <tr>\n",
              "      <th id=\"T_1ed92_level0_row6\" class=\"row_heading level0 row6\" >13</th>\n",
              "      <td id=\"T_1ed92_row6_col0\" class=\"data row6 col0\" >high</td>\n",
              "      <td id=\"T_1ed92_row6_col1\" class=\"data row6 col1\" >no</td>\n",
              "    </tr>\n",
              "  </tbody>\n",
              "</table>\n"
            ]
          },
          "metadata": {}
        },
        {
          "output_type": "stream",
          "name": "stdout",
          "text": [
            "Entropy of humidity - high = 0.985\n"
          ]
        },
        {
          "output_type": "display_data",
          "data": {
            "text/plain": [
              "<pandas.io.formats.style.Styler at 0x7d488e1d6920>"
            ],
            "text/html": [
              "<style type=\"text/css\">\n",
              "#T_09b88 th {\n",
              "  background-color: lightgray;\n",
              "  border: 1px solid gray;\n",
              "  font-weight: bold;\n",
              "}\n",
              "#T_09b88 td {\n",
              "  border: 1px solid gray;\n",
              "}\n",
              "#T_09b88 tr:hover {\n",
              "  background-color: white;\n",
              "  border: 1.5px solid black;\n",
              "}\n",
              "#T_09b88_row0_col0, #T_09b88_row1_col0, #T_09b88_row2_col0, #T_09b88_row3_col0, #T_09b88_row4_col0, #T_09b88_row5_col0, #T_09b88_row6_col0 {\n",
              "  width: 80px;\n",
              "}\n",
              "#T_09b88_row0_col1, #T_09b88_row2_col1, #T_09b88_row3_col1, #T_09b88_row4_col1, #T_09b88_row5_col1, #T_09b88_row6_col1 {\n",
              "  background-color: lightgreen;\n",
              "  width: 80px;\n",
              "}\n",
              "#T_09b88_row1_col1 {\n",
              "  background-color: pink;\n",
              "  width: 80px;\n",
              "}\n",
              "</style>\n",
              "<table id=\"T_09b88\" class=\"dataframe\">\n",
              "  <thead>\n",
              "    <tr>\n",
              "      <th class=\"blank level0\" >&nbsp;</th>\n",
              "      <th id=\"T_09b88_level0_col0\" class=\"col_heading level0 col0\" >humidity</th>\n",
              "      <th id=\"T_09b88_level0_col1\" class=\"col_heading level0 col1\" >play</th>\n",
              "    </tr>\n",
              "  </thead>\n",
              "  <tbody>\n",
              "    <tr>\n",
              "      <th id=\"T_09b88_level0_row0\" class=\"row_heading level0 row0\" >4</th>\n",
              "      <td id=\"T_09b88_row0_col0\" class=\"data row0 col0\" >normal</td>\n",
              "      <td id=\"T_09b88_row0_col1\" class=\"data row0 col1\" >yes</td>\n",
              "    </tr>\n",
              "    <tr>\n",
              "      <th id=\"T_09b88_level0_row1\" class=\"row_heading level0 row1\" >5</th>\n",
              "      <td id=\"T_09b88_row1_col0\" class=\"data row1 col0\" >normal</td>\n",
              "      <td id=\"T_09b88_row1_col1\" class=\"data row1 col1\" >no</td>\n",
              "    </tr>\n",
              "    <tr>\n",
              "      <th id=\"T_09b88_level0_row2\" class=\"row_heading level0 row2\" >6</th>\n",
              "      <td id=\"T_09b88_row2_col0\" class=\"data row2 col0\" >normal</td>\n",
              "      <td id=\"T_09b88_row2_col1\" class=\"data row2 col1\" >yes</td>\n",
              "    </tr>\n",
              "    <tr>\n",
              "      <th id=\"T_09b88_level0_row3\" class=\"row_heading level0 row3\" >8</th>\n",
              "      <td id=\"T_09b88_row3_col0\" class=\"data row3 col0\" >normal</td>\n",
              "      <td id=\"T_09b88_row3_col1\" class=\"data row3 col1\" >yes</td>\n",
              "    </tr>\n",
              "    <tr>\n",
              "      <th id=\"T_09b88_level0_row4\" class=\"row_heading level0 row4\" >9</th>\n",
              "      <td id=\"T_09b88_row4_col0\" class=\"data row4 col0\" >normal</td>\n",
              "      <td id=\"T_09b88_row4_col1\" class=\"data row4 col1\" >yes</td>\n",
              "    </tr>\n",
              "    <tr>\n",
              "      <th id=\"T_09b88_level0_row5\" class=\"row_heading level0 row5\" >10</th>\n",
              "      <td id=\"T_09b88_row5_col0\" class=\"data row5 col0\" >normal</td>\n",
              "      <td id=\"T_09b88_row5_col1\" class=\"data row5 col1\" >yes</td>\n",
              "    </tr>\n",
              "    <tr>\n",
              "      <th id=\"T_09b88_level0_row6\" class=\"row_heading level0 row6\" >12</th>\n",
              "      <td id=\"T_09b88_row6_col0\" class=\"data row6 col0\" >normal</td>\n",
              "      <td id=\"T_09b88_row6_col1\" class=\"data row6 col1\" >yes</td>\n",
              "    </tr>\n",
              "  </tbody>\n",
              "</table>\n"
            ]
          },
          "metadata": {}
        },
        {
          "output_type": "stream",
          "name": "stdout",
          "text": [
            "Entropy of humidity - normal = 0.592\n",
            "Information Gain for humidity = 0.151\n"
          ]
        }
      ]
    },
    {
      "cell_type": "code",
      "source": [
        "entropy_and_infogain(data, 'windy')"
      ],
      "metadata": {
        "colab": {
          "base_uri": "https://localhost:8080/",
          "height": 589
        },
        "id": "Qd1fMsuWkSVz",
        "outputId": "cd2e58eb-372f-481b-a98e-892f4b152127"
      },
      "execution_count": 19,
      "outputs": [
        {
          "output_type": "display_data",
          "data": {
            "text/plain": [
              "<pandas.io.formats.style.Styler at 0x7d488e1d7790>"
            ],
            "text/html": [
              "<style type=\"text/css\">\n",
              "#T_61663 th {\n",
              "  background-color: lightgray;\n",
              "  border: 1px solid gray;\n",
              "  font-weight: bold;\n",
              "}\n",
              "#T_61663 td {\n",
              "  border: 1px solid gray;\n",
              "}\n",
              "#T_61663 tr:hover {\n",
              "  background-color: white;\n",
              "  border: 1.5px solid black;\n",
              "}\n",
              "#T_61663_row0_col0, #T_61663_row1_col0, #T_61663_row2_col0, #T_61663_row3_col0, #T_61663_row4_col0, #T_61663_row5_col0, #T_61663_row6_col0, #T_61663_row7_col0 {\n",
              "  width: 80px;\n",
              "}\n",
              "#T_61663_row0_col1, #T_61663_row4_col1 {\n",
              "  background-color: pink;\n",
              "  width: 80px;\n",
              "}\n",
              "#T_61663_row1_col1, #T_61663_row2_col1, #T_61663_row3_col1, #T_61663_row5_col1, #T_61663_row6_col1, #T_61663_row7_col1 {\n",
              "  background-color: lightgreen;\n",
              "  width: 80px;\n",
              "}\n",
              "</style>\n",
              "<table id=\"T_61663\" class=\"dataframe\">\n",
              "  <thead>\n",
              "    <tr>\n",
              "      <th class=\"blank level0\" >&nbsp;</th>\n",
              "      <th id=\"T_61663_level0_col0\" class=\"col_heading level0 col0\" >windy</th>\n",
              "      <th id=\"T_61663_level0_col1\" class=\"col_heading level0 col1\" >play</th>\n",
              "    </tr>\n",
              "  </thead>\n",
              "  <tbody>\n",
              "    <tr>\n",
              "      <th id=\"T_61663_level0_row0\" class=\"row_heading level0 row0\" >0</th>\n",
              "      <td id=\"T_61663_row0_col0\" class=\"data row0 col0\" >False</td>\n",
              "      <td id=\"T_61663_row0_col1\" class=\"data row0 col1\" >no</td>\n",
              "    </tr>\n",
              "    <tr>\n",
              "      <th id=\"T_61663_level0_row1\" class=\"row_heading level0 row1\" >2</th>\n",
              "      <td id=\"T_61663_row1_col0\" class=\"data row1 col0\" >False</td>\n",
              "      <td id=\"T_61663_row1_col1\" class=\"data row1 col1\" >yes</td>\n",
              "    </tr>\n",
              "    <tr>\n",
              "      <th id=\"T_61663_level0_row2\" class=\"row_heading level0 row2\" >3</th>\n",
              "      <td id=\"T_61663_row2_col0\" class=\"data row2 col0\" >False</td>\n",
              "      <td id=\"T_61663_row2_col1\" class=\"data row2 col1\" >yes</td>\n",
              "    </tr>\n",
              "    <tr>\n",
              "      <th id=\"T_61663_level0_row3\" class=\"row_heading level0 row3\" >4</th>\n",
              "      <td id=\"T_61663_row3_col0\" class=\"data row3 col0\" >False</td>\n",
              "      <td id=\"T_61663_row3_col1\" class=\"data row3 col1\" >yes</td>\n",
              "    </tr>\n",
              "    <tr>\n",
              "      <th id=\"T_61663_level0_row4\" class=\"row_heading level0 row4\" >7</th>\n",
              "      <td id=\"T_61663_row4_col0\" class=\"data row4 col0\" >False</td>\n",
              "      <td id=\"T_61663_row4_col1\" class=\"data row4 col1\" >no</td>\n",
              "    </tr>\n",
              "    <tr>\n",
              "      <th id=\"T_61663_level0_row5\" class=\"row_heading level0 row5\" >8</th>\n",
              "      <td id=\"T_61663_row5_col0\" class=\"data row5 col0\" >False</td>\n",
              "      <td id=\"T_61663_row5_col1\" class=\"data row5 col1\" >yes</td>\n",
              "    </tr>\n",
              "    <tr>\n",
              "      <th id=\"T_61663_level0_row6\" class=\"row_heading level0 row6\" >9</th>\n",
              "      <td id=\"T_61663_row6_col0\" class=\"data row6 col0\" >False</td>\n",
              "      <td id=\"T_61663_row6_col1\" class=\"data row6 col1\" >yes</td>\n",
              "    </tr>\n",
              "    <tr>\n",
              "      <th id=\"T_61663_level0_row7\" class=\"row_heading level0 row7\" >12</th>\n",
              "      <td id=\"T_61663_row7_col0\" class=\"data row7 col0\" >False</td>\n",
              "      <td id=\"T_61663_row7_col1\" class=\"data row7 col1\" >yes</td>\n",
              "    </tr>\n",
              "  </tbody>\n",
              "</table>\n"
            ]
          },
          "metadata": {}
        },
        {
          "output_type": "stream",
          "name": "stdout",
          "text": [
            "Entropy of windy - False = 0.811\n"
          ]
        },
        {
          "output_type": "display_data",
          "data": {
            "text/plain": [
              "<pandas.io.formats.style.Styler at 0x7d488e1d70d0>"
            ],
            "text/html": [
              "<style type=\"text/css\">\n",
              "#T_560f5 th {\n",
              "  background-color: lightgray;\n",
              "  border: 1px solid gray;\n",
              "  font-weight: bold;\n",
              "}\n",
              "#T_560f5 td {\n",
              "  border: 1px solid gray;\n",
              "}\n",
              "#T_560f5 tr:hover {\n",
              "  background-color: white;\n",
              "  border: 1.5px solid black;\n",
              "}\n",
              "#T_560f5_row0_col0, #T_560f5_row1_col0, #T_560f5_row2_col0, #T_560f5_row3_col0, #T_560f5_row4_col0, #T_560f5_row5_col0 {\n",
              "  width: 80px;\n",
              "}\n",
              "#T_560f5_row0_col1, #T_560f5_row1_col1, #T_560f5_row5_col1 {\n",
              "  background-color: pink;\n",
              "  width: 80px;\n",
              "}\n",
              "#T_560f5_row2_col1, #T_560f5_row3_col1, #T_560f5_row4_col1 {\n",
              "  background-color: lightgreen;\n",
              "  width: 80px;\n",
              "}\n",
              "</style>\n",
              "<table id=\"T_560f5\" class=\"dataframe\">\n",
              "  <thead>\n",
              "    <tr>\n",
              "      <th class=\"blank level0\" >&nbsp;</th>\n",
              "      <th id=\"T_560f5_level0_col0\" class=\"col_heading level0 col0\" >windy</th>\n",
              "      <th id=\"T_560f5_level0_col1\" class=\"col_heading level0 col1\" >play</th>\n",
              "    </tr>\n",
              "  </thead>\n",
              "  <tbody>\n",
              "    <tr>\n",
              "      <th id=\"T_560f5_level0_row0\" class=\"row_heading level0 row0\" >1</th>\n",
              "      <td id=\"T_560f5_row0_col0\" class=\"data row0 col0\" >True</td>\n",
              "      <td id=\"T_560f5_row0_col1\" class=\"data row0 col1\" >no</td>\n",
              "    </tr>\n",
              "    <tr>\n",
              "      <th id=\"T_560f5_level0_row1\" class=\"row_heading level0 row1\" >5</th>\n",
              "      <td id=\"T_560f5_row1_col0\" class=\"data row1 col0\" >True</td>\n",
              "      <td id=\"T_560f5_row1_col1\" class=\"data row1 col1\" >no</td>\n",
              "    </tr>\n",
              "    <tr>\n",
              "      <th id=\"T_560f5_level0_row2\" class=\"row_heading level0 row2\" >6</th>\n",
              "      <td id=\"T_560f5_row2_col0\" class=\"data row2 col0\" >True</td>\n",
              "      <td id=\"T_560f5_row2_col1\" class=\"data row2 col1\" >yes</td>\n",
              "    </tr>\n",
              "    <tr>\n",
              "      <th id=\"T_560f5_level0_row3\" class=\"row_heading level0 row3\" >10</th>\n",
              "      <td id=\"T_560f5_row3_col0\" class=\"data row3 col0\" >True</td>\n",
              "      <td id=\"T_560f5_row3_col1\" class=\"data row3 col1\" >yes</td>\n",
              "    </tr>\n",
              "    <tr>\n",
              "      <th id=\"T_560f5_level0_row4\" class=\"row_heading level0 row4\" >11</th>\n",
              "      <td id=\"T_560f5_row4_col0\" class=\"data row4 col0\" >True</td>\n",
              "      <td id=\"T_560f5_row4_col1\" class=\"data row4 col1\" >yes</td>\n",
              "    </tr>\n",
              "    <tr>\n",
              "      <th id=\"T_560f5_level0_row5\" class=\"row_heading level0 row5\" >13</th>\n",
              "      <td id=\"T_560f5_row5_col0\" class=\"data row5 col0\" >True</td>\n",
              "      <td id=\"T_560f5_row5_col1\" class=\"data row5 col1\" >no</td>\n",
              "    </tr>\n",
              "  </tbody>\n",
              "</table>\n"
            ]
          },
          "metadata": {}
        },
        {
          "output_type": "stream",
          "name": "stdout",
          "text": [
            "Entropy of windy - True = 1.0\n",
            "Information Gain for windy = 0.048\n"
          ]
        }
      ]
    },
    {
      "cell_type": "code",
      "source": [
        "sunny = data[data['outlook'] == 'sunny']\n",
        "sunny.style.applymap(highlight)\\\n",
        "    .set_properties(subset=data.columns, **{'width': '100px'})\\\n",
        "    .set_table_styles([{'selector': 'th', 'props': [('background-color', 'lightgray'), ('border', '1px solid gray'),\n",
        "                                                    ('font-weight', 'bold')]},\n",
        "     {'selector': 'tr:hover', 'props': [('background-color', 'white'), ('border', '1.5px solid black')]}])"
      ],
      "metadata": {
        "colab": {
          "base_uri": "https://localhost:8080/",
          "height": 212
        },
        "id": "LO1Gl4NPkXJ7",
        "outputId": "5257e010-6d1c-43af-f2df-67a270d2e445"
      },
      "execution_count": 20,
      "outputs": [
        {
          "output_type": "execute_result",
          "data": {
            "text/plain": [
              "<pandas.io.formats.style.Styler at 0x7d488e1d51b0>"
            ],
            "text/html": [
              "<style type=\"text/css\">\n",
              "#T_b1869 th {\n",
              "  background-color: lightgray;\n",
              "  border: 1px solid gray;\n",
              "  font-weight: bold;\n",
              "}\n",
              "#T_b1869 tr:hover {\n",
              "  background-color: white;\n",
              "  border: 1.5px solid black;\n",
              "}\n",
              "#T_b1869_row0_col0, #T_b1869_row0_col1, #T_b1869_row0_col2, #T_b1869_row0_col3, #T_b1869_row1_col0, #T_b1869_row1_col1, #T_b1869_row1_col2, #T_b1869_row1_col3, #T_b1869_row2_col0, #T_b1869_row2_col1, #T_b1869_row2_col2, #T_b1869_row2_col3, #T_b1869_row3_col0, #T_b1869_row3_col1, #T_b1869_row3_col2, #T_b1869_row3_col3, #T_b1869_row4_col0, #T_b1869_row4_col1, #T_b1869_row4_col2, #T_b1869_row4_col3 {\n",
              "  width: 100px;\n",
              "}\n",
              "#T_b1869_row0_col4, #T_b1869_row1_col4, #T_b1869_row2_col4 {\n",
              "  background-color: pink;\n",
              "  width: 100px;\n",
              "}\n",
              "#T_b1869_row3_col4, #T_b1869_row4_col4 {\n",
              "  background-color: lightgreen;\n",
              "  width: 100px;\n",
              "}\n",
              "</style>\n",
              "<table id=\"T_b1869\" class=\"dataframe\">\n",
              "  <thead>\n",
              "    <tr>\n",
              "      <th class=\"blank level0\" >&nbsp;</th>\n",
              "      <th id=\"T_b1869_level0_col0\" class=\"col_heading level0 col0\" >outlook</th>\n",
              "      <th id=\"T_b1869_level0_col1\" class=\"col_heading level0 col1\" >temp</th>\n",
              "      <th id=\"T_b1869_level0_col2\" class=\"col_heading level0 col2\" >humidity</th>\n",
              "      <th id=\"T_b1869_level0_col3\" class=\"col_heading level0 col3\" >windy</th>\n",
              "      <th id=\"T_b1869_level0_col4\" class=\"col_heading level0 col4\" >play</th>\n",
              "    </tr>\n",
              "  </thead>\n",
              "  <tbody>\n",
              "    <tr>\n",
              "      <th id=\"T_b1869_level0_row0\" class=\"row_heading level0 row0\" >0</th>\n",
              "      <td id=\"T_b1869_row0_col0\" class=\"data row0 col0\" >sunny</td>\n",
              "      <td id=\"T_b1869_row0_col1\" class=\"data row0 col1\" >hot</td>\n",
              "      <td id=\"T_b1869_row0_col2\" class=\"data row0 col2\" >high</td>\n",
              "      <td id=\"T_b1869_row0_col3\" class=\"data row0 col3\" >False</td>\n",
              "      <td id=\"T_b1869_row0_col4\" class=\"data row0 col4\" >no</td>\n",
              "    </tr>\n",
              "    <tr>\n",
              "      <th id=\"T_b1869_level0_row1\" class=\"row_heading level0 row1\" >1</th>\n",
              "      <td id=\"T_b1869_row1_col0\" class=\"data row1 col0\" >sunny</td>\n",
              "      <td id=\"T_b1869_row1_col1\" class=\"data row1 col1\" >hot</td>\n",
              "      <td id=\"T_b1869_row1_col2\" class=\"data row1 col2\" >high</td>\n",
              "      <td id=\"T_b1869_row1_col3\" class=\"data row1 col3\" >True</td>\n",
              "      <td id=\"T_b1869_row1_col4\" class=\"data row1 col4\" >no</td>\n",
              "    </tr>\n",
              "    <tr>\n",
              "      <th id=\"T_b1869_level0_row2\" class=\"row_heading level0 row2\" >7</th>\n",
              "      <td id=\"T_b1869_row2_col0\" class=\"data row2 col0\" >sunny</td>\n",
              "      <td id=\"T_b1869_row2_col1\" class=\"data row2 col1\" >mild</td>\n",
              "      <td id=\"T_b1869_row2_col2\" class=\"data row2 col2\" >high</td>\n",
              "      <td id=\"T_b1869_row2_col3\" class=\"data row2 col3\" >False</td>\n",
              "      <td id=\"T_b1869_row2_col4\" class=\"data row2 col4\" >no</td>\n",
              "    </tr>\n",
              "    <tr>\n",
              "      <th id=\"T_b1869_level0_row3\" class=\"row_heading level0 row3\" >8</th>\n",
              "      <td id=\"T_b1869_row3_col0\" class=\"data row3 col0\" >sunny</td>\n",
              "      <td id=\"T_b1869_row3_col1\" class=\"data row3 col1\" >cool</td>\n",
              "      <td id=\"T_b1869_row3_col2\" class=\"data row3 col2\" >normal</td>\n",
              "      <td id=\"T_b1869_row3_col3\" class=\"data row3 col3\" >False</td>\n",
              "      <td id=\"T_b1869_row3_col4\" class=\"data row3 col4\" >yes</td>\n",
              "    </tr>\n",
              "    <tr>\n",
              "      <th id=\"T_b1869_level0_row4\" class=\"row_heading level0 row4\" >10</th>\n",
              "      <td id=\"T_b1869_row4_col0\" class=\"data row4 col0\" >sunny</td>\n",
              "      <td id=\"T_b1869_row4_col1\" class=\"data row4 col1\" >mild</td>\n",
              "      <td id=\"T_b1869_row4_col2\" class=\"data row4 col2\" >normal</td>\n",
              "      <td id=\"T_b1869_row4_col3\" class=\"data row4 col3\" >True</td>\n",
              "      <td id=\"T_b1869_row4_col4\" class=\"data row4 col4\" >yes</td>\n",
              "    </tr>\n",
              "  </tbody>\n",
              "</table>\n"
            ]
          },
          "metadata": {},
          "execution_count": 20
        }
      ]
    },
    {
      "cell_type": "code",
      "source": [
        "print(f'Entropy of the Sunny dataset: {find_entropy(sunny.play)}')"
      ],
      "metadata": {
        "colab": {
          "base_uri": "https://localhost:8080/"
        },
        "id": "exwaSKWkkcZT",
        "outputId": "f4332ff3-2670-4f03-c54e-9326db46e7df"
      },
      "execution_count": 21,
      "outputs": [
        {
          "output_type": "stream",
          "name": "stdout",
          "text": [
            "Entropy of the Sunny dataset: 0.971\n"
          ]
        }
      ]
    },
    {
      "cell_type": "code",
      "source": [
        "entropy_and_infogain(sunny, 'temp')"
      ],
      "metadata": {
        "colab": {
          "base_uri": "https://localhost:8080/",
          "height": 348
        },
        "id": "5q7p3AvAke2r",
        "outputId": "1a69bd67-1b87-4ae4-b2ad-32501d3cca6c"
      },
      "execution_count": 22,
      "outputs": [
        {
          "output_type": "display_data",
          "data": {
            "text/plain": [
              "<pandas.io.formats.style.Styler at 0x7d488e1d4640>"
            ],
            "text/html": [
              "<style type=\"text/css\">\n",
              "#T_c2025 th {\n",
              "  background-color: lightgray;\n",
              "  border: 1px solid gray;\n",
              "  font-weight: bold;\n",
              "}\n",
              "#T_c2025 td {\n",
              "  border: 1px solid gray;\n",
              "}\n",
              "#T_c2025 tr:hover {\n",
              "  background-color: white;\n",
              "  border: 1.5px solid black;\n",
              "}\n",
              "#T_c2025_row0_col0, #T_c2025_row1_col0 {\n",
              "  width: 80px;\n",
              "}\n",
              "#T_c2025_row0_col1, #T_c2025_row1_col1 {\n",
              "  background-color: pink;\n",
              "  width: 80px;\n",
              "}\n",
              "</style>\n",
              "<table id=\"T_c2025\" class=\"dataframe\">\n",
              "  <thead>\n",
              "    <tr>\n",
              "      <th class=\"blank level0\" >&nbsp;</th>\n",
              "      <th id=\"T_c2025_level0_col0\" class=\"col_heading level0 col0\" >temp</th>\n",
              "      <th id=\"T_c2025_level0_col1\" class=\"col_heading level0 col1\" >play</th>\n",
              "    </tr>\n",
              "  </thead>\n",
              "  <tbody>\n",
              "    <tr>\n",
              "      <th id=\"T_c2025_level0_row0\" class=\"row_heading level0 row0\" >0</th>\n",
              "      <td id=\"T_c2025_row0_col0\" class=\"data row0 col0\" >hot</td>\n",
              "      <td id=\"T_c2025_row0_col1\" class=\"data row0 col1\" >no</td>\n",
              "    </tr>\n",
              "    <tr>\n",
              "      <th id=\"T_c2025_level0_row1\" class=\"row_heading level0 row1\" >1</th>\n",
              "      <td id=\"T_c2025_row1_col0\" class=\"data row1 col0\" >hot</td>\n",
              "      <td id=\"T_c2025_row1_col1\" class=\"data row1 col1\" >no</td>\n",
              "    </tr>\n",
              "  </tbody>\n",
              "</table>\n"
            ]
          },
          "metadata": {}
        },
        {
          "output_type": "stream",
          "name": "stdout",
          "text": [
            "Entropy of temp - hot = 0.0\n"
          ]
        },
        {
          "output_type": "display_data",
          "data": {
            "text/plain": [
              "<pandas.io.formats.style.Styler at 0x7d488e1d4640>"
            ],
            "text/html": [
              "<style type=\"text/css\">\n",
              "#T_66557 th {\n",
              "  background-color: lightgray;\n",
              "  border: 1px solid gray;\n",
              "  font-weight: bold;\n",
              "}\n",
              "#T_66557 td {\n",
              "  border: 1px solid gray;\n",
              "}\n",
              "#T_66557 tr:hover {\n",
              "  background-color: white;\n",
              "  border: 1.5px solid black;\n",
              "}\n",
              "#T_66557_row0_col0, #T_66557_row1_col0 {\n",
              "  width: 80px;\n",
              "}\n",
              "#T_66557_row0_col1 {\n",
              "  background-color: pink;\n",
              "  width: 80px;\n",
              "}\n",
              "#T_66557_row1_col1 {\n",
              "  background-color: lightgreen;\n",
              "  width: 80px;\n",
              "}\n",
              "</style>\n",
              "<table id=\"T_66557\" class=\"dataframe\">\n",
              "  <thead>\n",
              "    <tr>\n",
              "      <th class=\"blank level0\" >&nbsp;</th>\n",
              "      <th id=\"T_66557_level0_col0\" class=\"col_heading level0 col0\" >temp</th>\n",
              "      <th id=\"T_66557_level0_col1\" class=\"col_heading level0 col1\" >play</th>\n",
              "    </tr>\n",
              "  </thead>\n",
              "  <tbody>\n",
              "    <tr>\n",
              "      <th id=\"T_66557_level0_row0\" class=\"row_heading level0 row0\" >7</th>\n",
              "      <td id=\"T_66557_row0_col0\" class=\"data row0 col0\" >mild</td>\n",
              "      <td id=\"T_66557_row0_col1\" class=\"data row0 col1\" >no</td>\n",
              "    </tr>\n",
              "    <tr>\n",
              "      <th id=\"T_66557_level0_row1\" class=\"row_heading level0 row1\" >10</th>\n",
              "      <td id=\"T_66557_row1_col0\" class=\"data row1 col0\" >mild</td>\n",
              "      <td id=\"T_66557_row1_col1\" class=\"data row1 col1\" >yes</td>\n",
              "    </tr>\n",
              "  </tbody>\n",
              "</table>\n"
            ]
          },
          "metadata": {}
        },
        {
          "output_type": "stream",
          "name": "stdout",
          "text": [
            "Entropy of temp - mild = 1.0\n"
          ]
        },
        {
          "output_type": "display_data",
          "data": {
            "text/plain": [
              "<pandas.io.formats.style.Styler at 0x7d488e1d4640>"
            ],
            "text/html": [
              "<style type=\"text/css\">\n",
              "#T_b9d8c th {\n",
              "  background-color: lightgray;\n",
              "  border: 1px solid gray;\n",
              "  font-weight: bold;\n",
              "}\n",
              "#T_b9d8c td {\n",
              "  border: 1px solid gray;\n",
              "}\n",
              "#T_b9d8c tr:hover {\n",
              "  background-color: white;\n",
              "  border: 1.5px solid black;\n",
              "}\n",
              "#T_b9d8c_row0_col0 {\n",
              "  width: 80px;\n",
              "}\n",
              "#T_b9d8c_row0_col1 {\n",
              "  background-color: lightgreen;\n",
              "  width: 80px;\n",
              "}\n",
              "</style>\n",
              "<table id=\"T_b9d8c\" class=\"dataframe\">\n",
              "  <thead>\n",
              "    <tr>\n",
              "      <th class=\"blank level0\" >&nbsp;</th>\n",
              "      <th id=\"T_b9d8c_level0_col0\" class=\"col_heading level0 col0\" >temp</th>\n",
              "      <th id=\"T_b9d8c_level0_col1\" class=\"col_heading level0 col1\" >play</th>\n",
              "    </tr>\n",
              "  </thead>\n",
              "  <tbody>\n",
              "    <tr>\n",
              "      <th id=\"T_b9d8c_level0_row0\" class=\"row_heading level0 row0\" >8</th>\n",
              "      <td id=\"T_b9d8c_row0_col0\" class=\"data row0 col0\" >cool</td>\n",
              "      <td id=\"T_b9d8c_row0_col1\" class=\"data row0 col1\" >yes</td>\n",
              "    </tr>\n",
              "  </tbody>\n",
              "</table>\n"
            ]
          },
          "metadata": {}
        },
        {
          "output_type": "stream",
          "name": "stdout",
          "text": [
            "Entropy of temp - cool = 0.0\n",
            "Information Gain for temp = 0.571\n"
          ]
        }
      ]
    },
    {
      "cell_type": "code",
      "source": [
        "entropy_and_infogain(sunny, 'humidity')"
      ],
      "metadata": {
        "colab": {
          "base_uri": "https://localhost:8080/",
          "height": 298
        },
        "id": "D9OgZkXMkhg7",
        "outputId": "6e9a4015-18f6-4f77-9659-afcacf3fd213"
      },
      "execution_count": 23,
      "outputs": [
        {
          "output_type": "display_data",
          "data": {
            "text/plain": [
              "<pandas.io.formats.style.Styler at 0x7d488e1d7040>"
            ],
            "text/html": [
              "<style type=\"text/css\">\n",
              "#T_c0c51 th {\n",
              "  background-color: lightgray;\n",
              "  border: 1px solid gray;\n",
              "  font-weight: bold;\n",
              "}\n",
              "#T_c0c51 td {\n",
              "  border: 1px solid gray;\n",
              "}\n",
              "#T_c0c51 tr:hover {\n",
              "  background-color: white;\n",
              "  border: 1.5px solid black;\n",
              "}\n",
              "#T_c0c51_row0_col0, #T_c0c51_row1_col0, #T_c0c51_row2_col0 {\n",
              "  width: 80px;\n",
              "}\n",
              "#T_c0c51_row0_col1, #T_c0c51_row1_col1, #T_c0c51_row2_col1 {\n",
              "  background-color: pink;\n",
              "  width: 80px;\n",
              "}\n",
              "</style>\n",
              "<table id=\"T_c0c51\" class=\"dataframe\">\n",
              "  <thead>\n",
              "    <tr>\n",
              "      <th class=\"blank level0\" >&nbsp;</th>\n",
              "      <th id=\"T_c0c51_level0_col0\" class=\"col_heading level0 col0\" >humidity</th>\n",
              "      <th id=\"T_c0c51_level0_col1\" class=\"col_heading level0 col1\" >play</th>\n",
              "    </tr>\n",
              "  </thead>\n",
              "  <tbody>\n",
              "    <tr>\n",
              "      <th id=\"T_c0c51_level0_row0\" class=\"row_heading level0 row0\" >0</th>\n",
              "      <td id=\"T_c0c51_row0_col0\" class=\"data row0 col0\" >high</td>\n",
              "      <td id=\"T_c0c51_row0_col1\" class=\"data row0 col1\" >no</td>\n",
              "    </tr>\n",
              "    <tr>\n",
              "      <th id=\"T_c0c51_level0_row1\" class=\"row_heading level0 row1\" >1</th>\n",
              "      <td id=\"T_c0c51_row1_col0\" class=\"data row1 col0\" >high</td>\n",
              "      <td id=\"T_c0c51_row1_col1\" class=\"data row1 col1\" >no</td>\n",
              "    </tr>\n",
              "    <tr>\n",
              "      <th id=\"T_c0c51_level0_row2\" class=\"row_heading level0 row2\" >7</th>\n",
              "      <td id=\"T_c0c51_row2_col0\" class=\"data row2 col0\" >high</td>\n",
              "      <td id=\"T_c0c51_row2_col1\" class=\"data row2 col1\" >no</td>\n",
              "    </tr>\n",
              "  </tbody>\n",
              "</table>\n"
            ]
          },
          "metadata": {}
        },
        {
          "output_type": "stream",
          "name": "stdout",
          "text": [
            "Entropy of humidity - high = 0.0\n"
          ]
        },
        {
          "output_type": "display_data",
          "data": {
            "text/plain": [
              "<pandas.io.formats.style.Styler at 0x7d488e1d7040>"
            ],
            "text/html": [
              "<style type=\"text/css\">\n",
              "#T_90d3c th {\n",
              "  background-color: lightgray;\n",
              "  border: 1px solid gray;\n",
              "  font-weight: bold;\n",
              "}\n",
              "#T_90d3c td {\n",
              "  border: 1px solid gray;\n",
              "}\n",
              "#T_90d3c tr:hover {\n",
              "  background-color: white;\n",
              "  border: 1.5px solid black;\n",
              "}\n",
              "#T_90d3c_row0_col0, #T_90d3c_row1_col0 {\n",
              "  width: 80px;\n",
              "}\n",
              "#T_90d3c_row0_col1, #T_90d3c_row1_col1 {\n",
              "  background-color: lightgreen;\n",
              "  width: 80px;\n",
              "}\n",
              "</style>\n",
              "<table id=\"T_90d3c\" class=\"dataframe\">\n",
              "  <thead>\n",
              "    <tr>\n",
              "      <th class=\"blank level0\" >&nbsp;</th>\n",
              "      <th id=\"T_90d3c_level0_col0\" class=\"col_heading level0 col0\" >humidity</th>\n",
              "      <th id=\"T_90d3c_level0_col1\" class=\"col_heading level0 col1\" >play</th>\n",
              "    </tr>\n",
              "  </thead>\n",
              "  <tbody>\n",
              "    <tr>\n",
              "      <th id=\"T_90d3c_level0_row0\" class=\"row_heading level0 row0\" >8</th>\n",
              "      <td id=\"T_90d3c_row0_col0\" class=\"data row0 col0\" >normal</td>\n",
              "      <td id=\"T_90d3c_row0_col1\" class=\"data row0 col1\" >yes</td>\n",
              "    </tr>\n",
              "    <tr>\n",
              "      <th id=\"T_90d3c_level0_row1\" class=\"row_heading level0 row1\" >10</th>\n",
              "      <td id=\"T_90d3c_row1_col0\" class=\"data row1 col0\" >normal</td>\n",
              "      <td id=\"T_90d3c_row1_col1\" class=\"data row1 col1\" >yes</td>\n",
              "    </tr>\n",
              "  </tbody>\n",
              "</table>\n"
            ]
          },
          "metadata": {}
        },
        {
          "output_type": "stream",
          "name": "stdout",
          "text": [
            "Entropy of humidity - normal = 0.0\n",
            "Information Gain for humidity = 0.971\n"
          ]
        }
      ]
    },
    {
      "cell_type": "code",
      "source": [
        "entropy_and_infogain(sunny, 'windy')"
      ],
      "metadata": {
        "colab": {
          "base_uri": "https://localhost:8080/",
          "height": 298
        },
        "id": "rGg6kMSMkjrb",
        "outputId": "42d01974-c3c1-4007-da98-b67067deebcf"
      },
      "execution_count": 24,
      "outputs": [
        {
          "output_type": "display_data",
          "data": {
            "text/plain": [
              "<pandas.io.formats.style.Styler at 0x7d488e1d7610>"
            ],
            "text/html": [
              "<style type=\"text/css\">\n",
              "#T_84e5d th {\n",
              "  background-color: lightgray;\n",
              "  border: 1px solid gray;\n",
              "  font-weight: bold;\n",
              "}\n",
              "#T_84e5d td {\n",
              "  border: 1px solid gray;\n",
              "}\n",
              "#T_84e5d tr:hover {\n",
              "  background-color: white;\n",
              "  border: 1.5px solid black;\n",
              "}\n",
              "#T_84e5d_row0_col0, #T_84e5d_row1_col0, #T_84e5d_row2_col0 {\n",
              "  width: 80px;\n",
              "}\n",
              "#T_84e5d_row0_col1, #T_84e5d_row1_col1 {\n",
              "  background-color: pink;\n",
              "  width: 80px;\n",
              "}\n",
              "#T_84e5d_row2_col1 {\n",
              "  background-color: lightgreen;\n",
              "  width: 80px;\n",
              "}\n",
              "</style>\n",
              "<table id=\"T_84e5d\" class=\"dataframe\">\n",
              "  <thead>\n",
              "    <tr>\n",
              "      <th class=\"blank level0\" >&nbsp;</th>\n",
              "      <th id=\"T_84e5d_level0_col0\" class=\"col_heading level0 col0\" >windy</th>\n",
              "      <th id=\"T_84e5d_level0_col1\" class=\"col_heading level0 col1\" >play</th>\n",
              "    </tr>\n",
              "  </thead>\n",
              "  <tbody>\n",
              "    <tr>\n",
              "      <th id=\"T_84e5d_level0_row0\" class=\"row_heading level0 row0\" >0</th>\n",
              "      <td id=\"T_84e5d_row0_col0\" class=\"data row0 col0\" >False</td>\n",
              "      <td id=\"T_84e5d_row0_col1\" class=\"data row0 col1\" >no</td>\n",
              "    </tr>\n",
              "    <tr>\n",
              "      <th id=\"T_84e5d_level0_row1\" class=\"row_heading level0 row1\" >7</th>\n",
              "      <td id=\"T_84e5d_row1_col0\" class=\"data row1 col0\" >False</td>\n",
              "      <td id=\"T_84e5d_row1_col1\" class=\"data row1 col1\" >no</td>\n",
              "    </tr>\n",
              "    <tr>\n",
              "      <th id=\"T_84e5d_level0_row2\" class=\"row_heading level0 row2\" >8</th>\n",
              "      <td id=\"T_84e5d_row2_col0\" class=\"data row2 col0\" >False</td>\n",
              "      <td id=\"T_84e5d_row2_col1\" class=\"data row2 col1\" >yes</td>\n",
              "    </tr>\n",
              "  </tbody>\n",
              "</table>\n"
            ]
          },
          "metadata": {}
        },
        {
          "output_type": "stream",
          "name": "stdout",
          "text": [
            "Entropy of windy - False = 0.918\n"
          ]
        },
        {
          "output_type": "display_data",
          "data": {
            "text/plain": [
              "<pandas.io.formats.style.Styler at 0x7d488e1d65f0>"
            ],
            "text/html": [
              "<style type=\"text/css\">\n",
              "#T_6555c th {\n",
              "  background-color: lightgray;\n",
              "  border: 1px solid gray;\n",
              "  font-weight: bold;\n",
              "}\n",
              "#T_6555c td {\n",
              "  border: 1px solid gray;\n",
              "}\n",
              "#T_6555c tr:hover {\n",
              "  background-color: white;\n",
              "  border: 1.5px solid black;\n",
              "}\n",
              "#T_6555c_row0_col0, #T_6555c_row1_col0 {\n",
              "  width: 80px;\n",
              "}\n",
              "#T_6555c_row0_col1 {\n",
              "  background-color: pink;\n",
              "  width: 80px;\n",
              "}\n",
              "#T_6555c_row1_col1 {\n",
              "  background-color: lightgreen;\n",
              "  width: 80px;\n",
              "}\n",
              "</style>\n",
              "<table id=\"T_6555c\" class=\"dataframe\">\n",
              "  <thead>\n",
              "    <tr>\n",
              "      <th class=\"blank level0\" >&nbsp;</th>\n",
              "      <th id=\"T_6555c_level0_col0\" class=\"col_heading level0 col0\" >windy</th>\n",
              "      <th id=\"T_6555c_level0_col1\" class=\"col_heading level0 col1\" >play</th>\n",
              "    </tr>\n",
              "  </thead>\n",
              "  <tbody>\n",
              "    <tr>\n",
              "      <th id=\"T_6555c_level0_row0\" class=\"row_heading level0 row0\" >1</th>\n",
              "      <td id=\"T_6555c_row0_col0\" class=\"data row0 col0\" >True</td>\n",
              "      <td id=\"T_6555c_row0_col1\" class=\"data row0 col1\" >no</td>\n",
              "    </tr>\n",
              "    <tr>\n",
              "      <th id=\"T_6555c_level0_row1\" class=\"row_heading level0 row1\" >10</th>\n",
              "      <td id=\"T_6555c_row1_col0\" class=\"data row1 col0\" >True</td>\n",
              "      <td id=\"T_6555c_row1_col1\" class=\"data row1 col1\" >yes</td>\n",
              "    </tr>\n",
              "  </tbody>\n",
              "</table>\n"
            ]
          },
          "metadata": {}
        },
        {
          "output_type": "stream",
          "name": "stdout",
          "text": [
            "Entropy of windy - True = 1.0\n",
            "Information Gain for windy = 0.02\n"
          ]
        }
      ]
    },
    {
      "cell_type": "code",
      "source": [
        "rainy = data[data['outlook'] == 'rainy']\n",
        "rainy.style.applymap(highlight)\\\n",
        "    .set_properties(subset=data.columns, **{'width': '100px'})\\\n",
        "    .set_table_styles([{'selector': 'th', 'props': [('background-color', 'lightgray'), ('border', '1px solid gray'),\n",
        "                                                    ('font-weight', 'bold')]},\n",
        "     {'selector': 'tr:hover', 'props': [('background-color', 'white'), ('border', '1.5px solid black')]}])"
      ],
      "metadata": {
        "colab": {
          "base_uri": "https://localhost:8080/",
          "height": 212
        },
        "id": "-8ayvaVSknq5",
        "outputId": "e1f2c393-022d-43da-8898-e1da586ac785"
      },
      "execution_count": 25,
      "outputs": [
        {
          "output_type": "execute_result",
          "data": {
            "text/plain": [
              "<pandas.io.formats.style.Styler at 0x7d488e1d75b0>"
            ],
            "text/html": [
              "<style type=\"text/css\">\n",
              "#T_4495a th {\n",
              "  background-color: lightgray;\n",
              "  border: 1px solid gray;\n",
              "  font-weight: bold;\n",
              "}\n",
              "#T_4495a tr:hover {\n",
              "  background-color: white;\n",
              "  border: 1.5px solid black;\n",
              "}\n",
              "#T_4495a_row0_col0, #T_4495a_row0_col1, #T_4495a_row0_col2, #T_4495a_row0_col3, #T_4495a_row1_col0, #T_4495a_row1_col1, #T_4495a_row1_col2, #T_4495a_row1_col3, #T_4495a_row2_col0, #T_4495a_row2_col1, #T_4495a_row2_col2, #T_4495a_row2_col3, #T_4495a_row3_col0, #T_4495a_row3_col1, #T_4495a_row3_col2, #T_4495a_row3_col3, #T_4495a_row4_col0, #T_4495a_row4_col1, #T_4495a_row4_col2, #T_4495a_row4_col3 {\n",
              "  width: 100px;\n",
              "}\n",
              "#T_4495a_row0_col4, #T_4495a_row1_col4, #T_4495a_row3_col4 {\n",
              "  background-color: lightgreen;\n",
              "  width: 100px;\n",
              "}\n",
              "#T_4495a_row2_col4, #T_4495a_row4_col4 {\n",
              "  background-color: pink;\n",
              "  width: 100px;\n",
              "}\n",
              "</style>\n",
              "<table id=\"T_4495a\" class=\"dataframe\">\n",
              "  <thead>\n",
              "    <tr>\n",
              "      <th class=\"blank level0\" >&nbsp;</th>\n",
              "      <th id=\"T_4495a_level0_col0\" class=\"col_heading level0 col0\" >outlook</th>\n",
              "      <th id=\"T_4495a_level0_col1\" class=\"col_heading level0 col1\" >temp</th>\n",
              "      <th id=\"T_4495a_level0_col2\" class=\"col_heading level0 col2\" >humidity</th>\n",
              "      <th id=\"T_4495a_level0_col3\" class=\"col_heading level0 col3\" >windy</th>\n",
              "      <th id=\"T_4495a_level0_col4\" class=\"col_heading level0 col4\" >play</th>\n",
              "    </tr>\n",
              "  </thead>\n",
              "  <tbody>\n",
              "    <tr>\n",
              "      <th id=\"T_4495a_level0_row0\" class=\"row_heading level0 row0\" >3</th>\n",
              "      <td id=\"T_4495a_row0_col0\" class=\"data row0 col0\" >rainy</td>\n",
              "      <td id=\"T_4495a_row0_col1\" class=\"data row0 col1\" >mild</td>\n",
              "      <td id=\"T_4495a_row0_col2\" class=\"data row0 col2\" >high</td>\n",
              "      <td id=\"T_4495a_row0_col3\" class=\"data row0 col3\" >False</td>\n",
              "      <td id=\"T_4495a_row0_col4\" class=\"data row0 col4\" >yes</td>\n",
              "    </tr>\n",
              "    <tr>\n",
              "      <th id=\"T_4495a_level0_row1\" class=\"row_heading level0 row1\" >4</th>\n",
              "      <td id=\"T_4495a_row1_col0\" class=\"data row1 col0\" >rainy</td>\n",
              "      <td id=\"T_4495a_row1_col1\" class=\"data row1 col1\" >cool</td>\n",
              "      <td id=\"T_4495a_row1_col2\" class=\"data row1 col2\" >normal</td>\n",
              "      <td id=\"T_4495a_row1_col3\" class=\"data row1 col3\" >False</td>\n",
              "      <td id=\"T_4495a_row1_col4\" class=\"data row1 col4\" >yes</td>\n",
              "    </tr>\n",
              "    <tr>\n",
              "      <th id=\"T_4495a_level0_row2\" class=\"row_heading level0 row2\" >5</th>\n",
              "      <td id=\"T_4495a_row2_col0\" class=\"data row2 col0\" >rainy</td>\n",
              "      <td id=\"T_4495a_row2_col1\" class=\"data row2 col1\" >cool</td>\n",
              "      <td id=\"T_4495a_row2_col2\" class=\"data row2 col2\" >normal</td>\n",
              "      <td id=\"T_4495a_row2_col3\" class=\"data row2 col3\" >True</td>\n",
              "      <td id=\"T_4495a_row2_col4\" class=\"data row2 col4\" >no</td>\n",
              "    </tr>\n",
              "    <tr>\n",
              "      <th id=\"T_4495a_level0_row3\" class=\"row_heading level0 row3\" >9</th>\n",
              "      <td id=\"T_4495a_row3_col0\" class=\"data row3 col0\" >rainy</td>\n",
              "      <td id=\"T_4495a_row3_col1\" class=\"data row3 col1\" >mild</td>\n",
              "      <td id=\"T_4495a_row3_col2\" class=\"data row3 col2\" >normal</td>\n",
              "      <td id=\"T_4495a_row3_col3\" class=\"data row3 col3\" >False</td>\n",
              "      <td id=\"T_4495a_row3_col4\" class=\"data row3 col4\" >yes</td>\n",
              "    </tr>\n",
              "    <tr>\n",
              "      <th id=\"T_4495a_level0_row4\" class=\"row_heading level0 row4\" >13</th>\n",
              "      <td id=\"T_4495a_row4_col0\" class=\"data row4 col0\" >rainy</td>\n",
              "      <td id=\"T_4495a_row4_col1\" class=\"data row4 col1\" >mild</td>\n",
              "      <td id=\"T_4495a_row4_col2\" class=\"data row4 col2\" >high</td>\n",
              "      <td id=\"T_4495a_row4_col3\" class=\"data row4 col3\" >True</td>\n",
              "      <td id=\"T_4495a_row4_col4\" class=\"data row4 col4\" >no</td>\n",
              "    </tr>\n",
              "  </tbody>\n",
              "</table>\n"
            ]
          },
          "metadata": {},
          "execution_count": 25
        }
      ]
    },
    {
      "cell_type": "code",
      "source": [
        "print(f'Entropy of the Rainy dataset: {find_entropy(rainy.play)}')"
      ],
      "metadata": {
        "colab": {
          "base_uri": "https://localhost:8080/"
        },
        "id": "Y0Pu5tTskqaJ",
        "outputId": "c0aa0aa0-5886-43e6-9fee-54074f10bdb1"
      },
      "execution_count": 26,
      "outputs": [
        {
          "output_type": "stream",
          "name": "stdout",
          "text": [
            "Entropy of the Rainy dataset: 0.971\n"
          ]
        }
      ]
    },
    {
      "cell_type": "code",
      "source": [
        "entropy_and_infogain(rainy, 'temp')"
      ],
      "metadata": {
        "colab": {
          "base_uri": "https://localhost:8080/",
          "height": 298
        },
        "id": "TlxdsGeGkszB",
        "outputId": "145bfbfd-ab56-4068-d089-62dfb9eabcfb"
      },
      "execution_count": 27,
      "outputs": [
        {
          "output_type": "display_data",
          "data": {
            "text/plain": [
              "<pandas.io.formats.style.Styler at 0x7d488e1d4310>"
            ],
            "text/html": [
              "<style type=\"text/css\">\n",
              "#T_10c7d th {\n",
              "  background-color: lightgray;\n",
              "  border: 1px solid gray;\n",
              "  font-weight: bold;\n",
              "}\n",
              "#T_10c7d td {\n",
              "  border: 1px solid gray;\n",
              "}\n",
              "#T_10c7d tr:hover {\n",
              "  background-color: white;\n",
              "  border: 1.5px solid black;\n",
              "}\n",
              "#T_10c7d_row0_col0, #T_10c7d_row1_col0, #T_10c7d_row2_col0 {\n",
              "  width: 80px;\n",
              "}\n",
              "#T_10c7d_row0_col1, #T_10c7d_row1_col1 {\n",
              "  background-color: lightgreen;\n",
              "  width: 80px;\n",
              "}\n",
              "#T_10c7d_row2_col1 {\n",
              "  background-color: pink;\n",
              "  width: 80px;\n",
              "}\n",
              "</style>\n",
              "<table id=\"T_10c7d\" class=\"dataframe\">\n",
              "  <thead>\n",
              "    <tr>\n",
              "      <th class=\"blank level0\" >&nbsp;</th>\n",
              "      <th id=\"T_10c7d_level0_col0\" class=\"col_heading level0 col0\" >temp</th>\n",
              "      <th id=\"T_10c7d_level0_col1\" class=\"col_heading level0 col1\" >play</th>\n",
              "    </tr>\n",
              "  </thead>\n",
              "  <tbody>\n",
              "    <tr>\n",
              "      <th id=\"T_10c7d_level0_row0\" class=\"row_heading level0 row0\" >3</th>\n",
              "      <td id=\"T_10c7d_row0_col0\" class=\"data row0 col0\" >mild</td>\n",
              "      <td id=\"T_10c7d_row0_col1\" class=\"data row0 col1\" >yes</td>\n",
              "    </tr>\n",
              "    <tr>\n",
              "      <th id=\"T_10c7d_level0_row1\" class=\"row_heading level0 row1\" >9</th>\n",
              "      <td id=\"T_10c7d_row1_col0\" class=\"data row1 col0\" >mild</td>\n",
              "      <td id=\"T_10c7d_row1_col1\" class=\"data row1 col1\" >yes</td>\n",
              "    </tr>\n",
              "    <tr>\n",
              "      <th id=\"T_10c7d_level0_row2\" class=\"row_heading level0 row2\" >13</th>\n",
              "      <td id=\"T_10c7d_row2_col0\" class=\"data row2 col0\" >mild</td>\n",
              "      <td id=\"T_10c7d_row2_col1\" class=\"data row2 col1\" >no</td>\n",
              "    </tr>\n",
              "  </tbody>\n",
              "</table>\n"
            ]
          },
          "metadata": {}
        },
        {
          "output_type": "stream",
          "name": "stdout",
          "text": [
            "Entropy of temp - mild = 0.918\n"
          ]
        },
        {
          "output_type": "display_data",
          "data": {
            "text/plain": [
              "<pandas.io.formats.style.Styler at 0x7d488e1d5ae0>"
            ],
            "text/html": [
              "<style type=\"text/css\">\n",
              "#T_ea77b th {\n",
              "  background-color: lightgray;\n",
              "  border: 1px solid gray;\n",
              "  font-weight: bold;\n",
              "}\n",
              "#T_ea77b td {\n",
              "  border: 1px solid gray;\n",
              "}\n",
              "#T_ea77b tr:hover {\n",
              "  background-color: white;\n",
              "  border: 1.5px solid black;\n",
              "}\n",
              "#T_ea77b_row0_col0, #T_ea77b_row1_col0 {\n",
              "  width: 80px;\n",
              "}\n",
              "#T_ea77b_row0_col1 {\n",
              "  background-color: lightgreen;\n",
              "  width: 80px;\n",
              "}\n",
              "#T_ea77b_row1_col1 {\n",
              "  background-color: pink;\n",
              "  width: 80px;\n",
              "}\n",
              "</style>\n",
              "<table id=\"T_ea77b\" class=\"dataframe\">\n",
              "  <thead>\n",
              "    <tr>\n",
              "      <th class=\"blank level0\" >&nbsp;</th>\n",
              "      <th id=\"T_ea77b_level0_col0\" class=\"col_heading level0 col0\" >temp</th>\n",
              "      <th id=\"T_ea77b_level0_col1\" class=\"col_heading level0 col1\" >play</th>\n",
              "    </tr>\n",
              "  </thead>\n",
              "  <tbody>\n",
              "    <tr>\n",
              "      <th id=\"T_ea77b_level0_row0\" class=\"row_heading level0 row0\" >4</th>\n",
              "      <td id=\"T_ea77b_row0_col0\" class=\"data row0 col0\" >cool</td>\n",
              "      <td id=\"T_ea77b_row0_col1\" class=\"data row0 col1\" >yes</td>\n",
              "    </tr>\n",
              "    <tr>\n",
              "      <th id=\"T_ea77b_level0_row1\" class=\"row_heading level0 row1\" >5</th>\n",
              "      <td id=\"T_ea77b_row1_col0\" class=\"data row1 col0\" >cool</td>\n",
              "      <td id=\"T_ea77b_row1_col1\" class=\"data row1 col1\" >no</td>\n",
              "    </tr>\n",
              "  </tbody>\n",
              "</table>\n"
            ]
          },
          "metadata": {}
        },
        {
          "output_type": "stream",
          "name": "stdout",
          "text": [
            "Entropy of temp - cool = 1.0\n",
            "Information Gain for temp = 0.02\n"
          ]
        }
      ]
    },
    {
      "cell_type": "code",
      "source": [
        "entropy_and_infogain(rainy, 'humidity')"
      ],
      "metadata": {
        "colab": {
          "base_uri": "https://localhost:8080/",
          "height": 298
        },
        "id": "vr5xyhU4kvtB",
        "outputId": "ecae3d42-c1e0-4f28-bfbd-931051d37108"
      },
      "execution_count": 28,
      "outputs": [
        {
          "output_type": "display_data",
          "data": {
            "text/plain": [
              "<pandas.io.formats.style.Styler at 0x7d488e206ad0>"
            ],
            "text/html": [
              "<style type=\"text/css\">\n",
              "#T_552ec th {\n",
              "  background-color: lightgray;\n",
              "  border: 1px solid gray;\n",
              "  font-weight: bold;\n",
              "}\n",
              "#T_552ec td {\n",
              "  border: 1px solid gray;\n",
              "}\n",
              "#T_552ec tr:hover {\n",
              "  background-color: white;\n",
              "  border: 1.5px solid black;\n",
              "}\n",
              "#T_552ec_row0_col0, #T_552ec_row1_col0 {\n",
              "  width: 80px;\n",
              "}\n",
              "#T_552ec_row0_col1 {\n",
              "  background-color: lightgreen;\n",
              "  width: 80px;\n",
              "}\n",
              "#T_552ec_row1_col1 {\n",
              "  background-color: pink;\n",
              "  width: 80px;\n",
              "}\n",
              "</style>\n",
              "<table id=\"T_552ec\" class=\"dataframe\">\n",
              "  <thead>\n",
              "    <tr>\n",
              "      <th class=\"blank level0\" >&nbsp;</th>\n",
              "      <th id=\"T_552ec_level0_col0\" class=\"col_heading level0 col0\" >humidity</th>\n",
              "      <th id=\"T_552ec_level0_col1\" class=\"col_heading level0 col1\" >play</th>\n",
              "    </tr>\n",
              "  </thead>\n",
              "  <tbody>\n",
              "    <tr>\n",
              "      <th id=\"T_552ec_level0_row0\" class=\"row_heading level0 row0\" >3</th>\n",
              "      <td id=\"T_552ec_row0_col0\" class=\"data row0 col0\" >high</td>\n",
              "      <td id=\"T_552ec_row0_col1\" class=\"data row0 col1\" >yes</td>\n",
              "    </tr>\n",
              "    <tr>\n",
              "      <th id=\"T_552ec_level0_row1\" class=\"row_heading level0 row1\" >13</th>\n",
              "      <td id=\"T_552ec_row1_col0\" class=\"data row1 col0\" >high</td>\n",
              "      <td id=\"T_552ec_row1_col1\" class=\"data row1 col1\" >no</td>\n",
              "    </tr>\n",
              "  </tbody>\n",
              "</table>\n"
            ]
          },
          "metadata": {}
        },
        {
          "output_type": "stream",
          "name": "stdout",
          "text": [
            "Entropy of humidity - high = 1.0\n"
          ]
        },
        {
          "output_type": "display_data",
          "data": {
            "text/plain": [
              "<pandas.io.formats.style.Styler at 0x7d488e206ad0>"
            ],
            "text/html": [
              "<style type=\"text/css\">\n",
              "#T_b0f6b th {\n",
              "  background-color: lightgray;\n",
              "  border: 1px solid gray;\n",
              "  font-weight: bold;\n",
              "}\n",
              "#T_b0f6b td {\n",
              "  border: 1px solid gray;\n",
              "}\n",
              "#T_b0f6b tr:hover {\n",
              "  background-color: white;\n",
              "  border: 1.5px solid black;\n",
              "}\n",
              "#T_b0f6b_row0_col0, #T_b0f6b_row1_col0, #T_b0f6b_row2_col0 {\n",
              "  width: 80px;\n",
              "}\n",
              "#T_b0f6b_row0_col1, #T_b0f6b_row2_col1 {\n",
              "  background-color: lightgreen;\n",
              "  width: 80px;\n",
              "}\n",
              "#T_b0f6b_row1_col1 {\n",
              "  background-color: pink;\n",
              "  width: 80px;\n",
              "}\n",
              "</style>\n",
              "<table id=\"T_b0f6b\" class=\"dataframe\">\n",
              "  <thead>\n",
              "    <tr>\n",
              "      <th class=\"blank level0\" >&nbsp;</th>\n",
              "      <th id=\"T_b0f6b_level0_col0\" class=\"col_heading level0 col0\" >humidity</th>\n",
              "      <th id=\"T_b0f6b_level0_col1\" class=\"col_heading level0 col1\" >play</th>\n",
              "    </tr>\n",
              "  </thead>\n",
              "  <tbody>\n",
              "    <tr>\n",
              "      <th id=\"T_b0f6b_level0_row0\" class=\"row_heading level0 row0\" >4</th>\n",
              "      <td id=\"T_b0f6b_row0_col0\" class=\"data row0 col0\" >normal</td>\n",
              "      <td id=\"T_b0f6b_row0_col1\" class=\"data row0 col1\" >yes</td>\n",
              "    </tr>\n",
              "    <tr>\n",
              "      <th id=\"T_b0f6b_level0_row1\" class=\"row_heading level0 row1\" >5</th>\n",
              "      <td id=\"T_b0f6b_row1_col0\" class=\"data row1 col0\" >normal</td>\n",
              "      <td id=\"T_b0f6b_row1_col1\" class=\"data row1 col1\" >no</td>\n",
              "    </tr>\n",
              "    <tr>\n",
              "      <th id=\"T_b0f6b_level0_row2\" class=\"row_heading level0 row2\" >9</th>\n",
              "      <td id=\"T_b0f6b_row2_col0\" class=\"data row2 col0\" >normal</td>\n",
              "      <td id=\"T_b0f6b_row2_col1\" class=\"data row2 col1\" >yes</td>\n",
              "    </tr>\n",
              "  </tbody>\n",
              "</table>\n"
            ]
          },
          "metadata": {}
        },
        {
          "output_type": "stream",
          "name": "stdout",
          "text": [
            "Entropy of humidity - normal = 0.918\n",
            "Information Gain for humidity = 0.02\n"
          ]
        }
      ]
    },
    {
      "cell_type": "code",
      "source": [
        "entropy_and_infogain(rainy, 'windy')"
      ],
      "metadata": {
        "colab": {
          "base_uri": "https://localhost:8080/",
          "height": 298
        },
        "id": "VPBv954CkyEi",
        "outputId": "1810d31a-0c87-41b7-be02-349c10d58139"
      },
      "execution_count": 29,
      "outputs": [
        {
          "output_type": "display_data",
          "data": {
            "text/plain": [
              "<pandas.io.formats.style.Styler at 0x7d488e206890>"
            ],
            "text/html": [
              "<style type=\"text/css\">\n",
              "#T_4cf56 th {\n",
              "  background-color: lightgray;\n",
              "  border: 1px solid gray;\n",
              "  font-weight: bold;\n",
              "}\n",
              "#T_4cf56 td {\n",
              "  border: 1px solid gray;\n",
              "}\n",
              "#T_4cf56 tr:hover {\n",
              "  background-color: white;\n",
              "  border: 1.5px solid black;\n",
              "}\n",
              "#T_4cf56_row0_col0, #T_4cf56_row1_col0, #T_4cf56_row2_col0 {\n",
              "  width: 80px;\n",
              "}\n",
              "#T_4cf56_row0_col1, #T_4cf56_row1_col1, #T_4cf56_row2_col1 {\n",
              "  background-color: lightgreen;\n",
              "  width: 80px;\n",
              "}\n",
              "</style>\n",
              "<table id=\"T_4cf56\" class=\"dataframe\">\n",
              "  <thead>\n",
              "    <tr>\n",
              "      <th class=\"blank level0\" >&nbsp;</th>\n",
              "      <th id=\"T_4cf56_level0_col0\" class=\"col_heading level0 col0\" >windy</th>\n",
              "      <th id=\"T_4cf56_level0_col1\" class=\"col_heading level0 col1\" >play</th>\n",
              "    </tr>\n",
              "  </thead>\n",
              "  <tbody>\n",
              "    <tr>\n",
              "      <th id=\"T_4cf56_level0_row0\" class=\"row_heading level0 row0\" >3</th>\n",
              "      <td id=\"T_4cf56_row0_col0\" class=\"data row0 col0\" >False</td>\n",
              "      <td id=\"T_4cf56_row0_col1\" class=\"data row0 col1\" >yes</td>\n",
              "    </tr>\n",
              "    <tr>\n",
              "      <th id=\"T_4cf56_level0_row1\" class=\"row_heading level0 row1\" >4</th>\n",
              "      <td id=\"T_4cf56_row1_col0\" class=\"data row1 col0\" >False</td>\n",
              "      <td id=\"T_4cf56_row1_col1\" class=\"data row1 col1\" >yes</td>\n",
              "    </tr>\n",
              "    <tr>\n",
              "      <th id=\"T_4cf56_level0_row2\" class=\"row_heading level0 row2\" >9</th>\n",
              "      <td id=\"T_4cf56_row2_col0\" class=\"data row2 col0\" >False</td>\n",
              "      <td id=\"T_4cf56_row2_col1\" class=\"data row2 col1\" >yes</td>\n",
              "    </tr>\n",
              "  </tbody>\n",
              "</table>\n"
            ]
          },
          "metadata": {}
        },
        {
          "output_type": "stream",
          "name": "stdout",
          "text": [
            "Entropy of windy - False = 0.0\n"
          ]
        },
        {
          "output_type": "display_data",
          "data": {
            "text/plain": [
              "<pandas.io.formats.style.Styler at 0x7d488e2057e0>"
            ],
            "text/html": [
              "<style type=\"text/css\">\n",
              "#T_ccff2 th {\n",
              "  background-color: lightgray;\n",
              "  border: 1px solid gray;\n",
              "  font-weight: bold;\n",
              "}\n",
              "#T_ccff2 td {\n",
              "  border: 1px solid gray;\n",
              "}\n",
              "#T_ccff2 tr:hover {\n",
              "  background-color: white;\n",
              "  border: 1.5px solid black;\n",
              "}\n",
              "#T_ccff2_row0_col0, #T_ccff2_row1_col0 {\n",
              "  width: 80px;\n",
              "}\n",
              "#T_ccff2_row0_col1, #T_ccff2_row1_col1 {\n",
              "  background-color: pink;\n",
              "  width: 80px;\n",
              "}\n",
              "</style>\n",
              "<table id=\"T_ccff2\" class=\"dataframe\">\n",
              "  <thead>\n",
              "    <tr>\n",
              "      <th class=\"blank level0\" >&nbsp;</th>\n",
              "      <th id=\"T_ccff2_level0_col0\" class=\"col_heading level0 col0\" >windy</th>\n",
              "      <th id=\"T_ccff2_level0_col1\" class=\"col_heading level0 col1\" >play</th>\n",
              "    </tr>\n",
              "  </thead>\n",
              "  <tbody>\n",
              "    <tr>\n",
              "      <th id=\"T_ccff2_level0_row0\" class=\"row_heading level0 row0\" >5</th>\n",
              "      <td id=\"T_ccff2_row0_col0\" class=\"data row0 col0\" >True</td>\n",
              "      <td id=\"T_ccff2_row0_col1\" class=\"data row0 col1\" >no</td>\n",
              "    </tr>\n",
              "    <tr>\n",
              "      <th id=\"T_ccff2_level0_row1\" class=\"row_heading level0 row1\" >13</th>\n",
              "      <td id=\"T_ccff2_row1_col0\" class=\"data row1 col0\" >True</td>\n",
              "      <td id=\"T_ccff2_row1_col1\" class=\"data row1 col1\" >no</td>\n",
              "    </tr>\n",
              "  </tbody>\n",
              "</table>\n"
            ]
          },
          "metadata": {}
        },
        {
          "output_type": "stream",
          "name": "stdout",
          "text": [
            "Entropy of windy - True = 0.0\n",
            "Information Gain for windy = 0.971\n"
          ]
        }
      ]
    }
  ]
}